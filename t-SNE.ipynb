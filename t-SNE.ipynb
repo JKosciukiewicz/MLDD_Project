{
 "cells": [
  {
   "cell_type": "code",
   "id": "initial_id",
   "metadata": {
    "collapsed": true,
    "ExecuteTime": {
     "end_time": "2024-05-04T18:09:48.128133Z",
     "start_time": "2024-05-04T18:09:48.042018Z"
    }
   },
   "source": [
    "import pandas as pd\n",
    "import numpy as np\n",
    "from sklearn.manifold import TSNE\n",
    "from sklearn.cluster import DBSCAN\n",
    "\n",
    "import matplotlib.pyplot as plt"
   ],
   "outputs": [],
   "execution_count": 42
  },
  {
   "metadata": {
    "ExecuteTime": {
     "end_time": "2024-05-04T17:58:48.263985Z",
     "start_time": "2024-05-04T17:58:48.253978Z"
    }
   },
   "cell_type": "code",
   "source": [
    "# read csv\n",
    "df=pd.read_csv('./data/combined_output.csv', sep=';')\n",
    "# drop incomplete rows\n",
    "df = df.dropna()\n",
    "df"
   ],
   "id": "d7e7c365d75d13ea",
   "outputs": [
    {
     "data": {
      "text/plain": [
       "         CID  MolecularWeight  XLogP  HBondDonorCount  HBondAcceptorCount\n",
       "0      54454           418.60    4.7                1                   5\n",
       "1       2118           308.80    2.1                0                   3\n",
       "2   54678486           308.30    2.7                1                   4\n",
       "3       3961           422.90    4.3                2                   5\n",
       "4       3016           284.74    3.0                0                   2\n",
       "..       ...              ...    ...              ...                 ...\n",
       "79  16119814          1093.30    0.3               16                  18\n",
       "80  24801581           390.22   -0.1                2                   4\n",
       "81     50225          1239.40   -0.1               15                  15\n",
       "82  25074887          1431.00    1.9               16                  16\n",
       "84  77910626           730.70   -8.6               12                  20\n",
       "\n",
       "[83 rows x 5 columns]"
      ],
      "text/html": [
       "<div>\n",
       "<style scoped>\n",
       "    .dataframe tbody tr th:only-of-type {\n",
       "        vertical-align: middle;\n",
       "    }\n",
       "\n",
       "    .dataframe tbody tr th {\n",
       "        vertical-align: top;\n",
       "    }\n",
       "\n",
       "    .dataframe thead th {\n",
       "        text-align: right;\n",
       "    }\n",
       "</style>\n",
       "<table border=\"1\" class=\"dataframe\">\n",
       "  <thead>\n",
       "    <tr style=\"text-align: right;\">\n",
       "      <th></th>\n",
       "      <th>CID</th>\n",
       "      <th>MolecularWeight</th>\n",
       "      <th>XLogP</th>\n",
       "      <th>HBondDonorCount</th>\n",
       "      <th>HBondAcceptorCount</th>\n",
       "    </tr>\n",
       "  </thead>\n",
       "  <tbody>\n",
       "    <tr>\n",
       "      <th>0</th>\n",
       "      <td>54454</td>\n",
       "      <td>418.60</td>\n",
       "      <td>4.7</td>\n",
       "      <td>1</td>\n",
       "      <td>5</td>\n",
       "    </tr>\n",
       "    <tr>\n",
       "      <th>1</th>\n",
       "      <td>2118</td>\n",
       "      <td>308.80</td>\n",
       "      <td>2.1</td>\n",
       "      <td>0</td>\n",
       "      <td>3</td>\n",
       "    </tr>\n",
       "    <tr>\n",
       "      <th>2</th>\n",
       "      <td>54678486</td>\n",
       "      <td>308.30</td>\n",
       "      <td>2.7</td>\n",
       "      <td>1</td>\n",
       "      <td>4</td>\n",
       "    </tr>\n",
       "    <tr>\n",
       "      <th>3</th>\n",
       "      <td>3961</td>\n",
       "      <td>422.90</td>\n",
       "      <td>4.3</td>\n",
       "      <td>2</td>\n",
       "      <td>5</td>\n",
       "    </tr>\n",
       "    <tr>\n",
       "      <th>4</th>\n",
       "      <td>3016</td>\n",
       "      <td>284.74</td>\n",
       "      <td>3.0</td>\n",
       "      <td>0</td>\n",
       "      <td>2</td>\n",
       "    </tr>\n",
       "    <tr>\n",
       "      <th>...</th>\n",
       "      <td>...</td>\n",
       "      <td>...</td>\n",
       "      <td>...</td>\n",
       "      <td>...</td>\n",
       "      <td>...</td>\n",
       "    </tr>\n",
       "    <tr>\n",
       "      <th>79</th>\n",
       "      <td>16119814</td>\n",
       "      <td>1093.30</td>\n",
       "      <td>0.3</td>\n",
       "      <td>16</td>\n",
       "      <td>18</td>\n",
       "    </tr>\n",
       "    <tr>\n",
       "      <th>80</th>\n",
       "      <td>24801581</td>\n",
       "      <td>390.22</td>\n",
       "      <td>-0.1</td>\n",
       "      <td>2</td>\n",
       "      <td>4</td>\n",
       "    </tr>\n",
       "    <tr>\n",
       "      <th>81</th>\n",
       "      <td>50225</td>\n",
       "      <td>1239.40</td>\n",
       "      <td>-0.1</td>\n",
       "      <td>15</td>\n",
       "      <td>15</td>\n",
       "    </tr>\n",
       "    <tr>\n",
       "      <th>82</th>\n",
       "      <td>25074887</td>\n",
       "      <td>1431.00</td>\n",
       "      <td>1.9</td>\n",
       "      <td>16</td>\n",
       "      <td>16</td>\n",
       "    </tr>\n",
       "    <tr>\n",
       "      <th>84</th>\n",
       "      <td>77910626</td>\n",
       "      <td>730.70</td>\n",
       "      <td>-8.6</td>\n",
       "      <td>12</td>\n",
       "      <td>20</td>\n",
       "    </tr>\n",
       "  </tbody>\n",
       "</table>\n",
       "<p>83 rows × 5 columns</p>\n",
       "</div>"
      ]
     },
     "execution_count": 12,
     "metadata": {},
     "output_type": "execute_result"
    }
   ],
   "execution_count": 12
  },
  {
   "metadata": {
    "ExecuteTime": {
     "end_time": "2024-05-04T17:59:29.990039Z",
     "start_time": "2024-05-04T17:59:29.985476Z"
    }
   },
   "cell_type": "code",
   "source": [
    "# convert to numpy array\n",
    "X = df.to_numpy()\n",
    "X.shape"
   ],
   "id": "f88279b52a0c81c9",
   "outputs": [
    {
     "data": {
      "text/plain": [
       "(83, 5)"
      ]
     },
     "execution_count": 16,
     "metadata": {},
     "output_type": "execute_result"
    }
   ],
   "execution_count": 16
  },
  {
   "metadata": {},
   "cell_type": "markdown",
   "source": "# TSNE",
   "id": "20dbc63e2ef6e60f"
  },
  {
   "metadata": {
    "ExecuteTime": {
     "end_time": "2024-05-04T18:03:24.872151Z",
     "start_time": "2024-05-04T18:03:24.656328Z"
    }
   },
   "cell_type": "code",
   "source": [
    "# TSNE\n",
    "X_embedded = TSNE(n_components=2).fit_transform(X)\n",
    "X_embedded"
   ],
   "id": "cd75f12514d999fc",
   "outputs": [
    {
     "data": {
      "text/plain": [
       "array([[-0.5075229 , -4.4699373 ],\n",
       "       [ 1.998792  , -2.880025  ],\n",
       "       [ 3.067079  ,  2.8156111 ],\n",
       "       [ 1.7392223 , -4.108674  ],\n",
       "       [ 1.5534402 , -2.8256807 ],\n",
       "       [ 2.1751273 , -3.8804266 ],\n",
       "       [ 2.3338346 , -3.5887418 ],\n",
       "       [ 1.2612485 , -3.6985712 ],\n",
       "       [-1.4726038 , -4.008985  ],\n",
       "       [-1.7485493 , -2.096281  ],\n",
       "       [ 2.2767015 , -3.0467904 ],\n",
       "       [ 1.895981  , -2.8451371 ],\n",
       "       [ 1.1245902 , -3.3900836 ],\n",
       "       [ 4.2504945 ,  1.9737163 ],\n",
       "       [ 1.4076319 , -2.8718436 ],\n",
       "       [ 1.5677328 , -3.4661865 ],\n",
       "       [-1.6488214 , -3.7444751 ],\n",
       "       [-0.6658804 , -4.4674053 ],\n",
       "       [ 4.250492  ,  1.9736801 ],\n",
       "       [ 1.9383909 , -4.0769324 ],\n",
       "       [ 2.176551  , -3.8786879 ],\n",
       "       [ 3.0669577 ,  2.8156424 ],\n",
       "       [-0.99252397,  1.1693901 ],\n",
       "       [ 1.8014183 , -3.404083  ],\n",
       "       [ 1.3105159 , -2.9760325 ],\n",
       "       [-1.6541486 , -3.7308939 ],\n",
       "       [ 1.6439722 , -4.0779147 ],\n",
       "       [-1.6663976 , -3.692883  ],\n",
       "       [ 1.1620246 , -3.2132897 ],\n",
       "       [ 3.0670264 ,  2.8156114 ],\n",
       "       [-0.9959009 ,  1.157826  ],\n",
       "       [-1.2298759 ,  0.0628866 ],\n",
       "       [ 4.2504883 ,  1.9736845 ],\n",
       "       [ 1.3133761 , -3.859283  ],\n",
       "       [ 2.2905097 , -3.0570529 ],\n",
       "       [-1.4420435 , -1.1703384 ],\n",
       "       [-1.0045885 ,  1.1230596 ],\n",
       "       [ 0.13862358, -4.304787  ],\n",
       "       [ 1.1437846 , -3.3990273 ],\n",
       "       [-0.6702164 , -4.4655366 ],\n",
       "       [ 1.8554559 , -2.8204677 ],\n",
       "       [ 2.3072407 , -3.7493942 ],\n",
       "       [ 1.7046984 , -3.4361696 ],\n",
       "       [ 1.6835351 , -4.0828137 ],\n",
       "       [ 2.3238635 , -3.3333445 ],\n",
       "       [-0.843622  , -4.431101  ],\n",
       "       [-0.99590486,  1.157804  ],\n",
       "       [ 2.3130536 , -3.3859704 ],\n",
       "       [ 1.4973782 , -3.9891624 ],\n",
       "       [ 1.3457613 , -2.9501688 ],\n",
       "       [-1.0036784 ,  1.122652  ],\n",
       "       [ 0.91351223, -3.8827934 ],\n",
       "       [-1.7487216 , -2.0967844 ],\n",
       "       [ 0.6635897 ,  2.9957123 ],\n",
       "       [-1.001391  ,  1.1352396 ],\n",
       "       [-1.7482806 , -2.0939689 ],\n",
       "       [-1.0021683 ,  1.1353617 ],\n",
       "       [ 0.6635795 ,  2.9957123 ],\n",
       "       [ 0.6640267 ,  2.9958193 ],\n",
       "       [-1.7482048 , -2.0938618 ],\n",
       "       [-1.0048695 ,  1.1221385 ],\n",
       "       [ 3.0488427 ,  2.823787  ],\n",
       "       [-1.6628311 , -1.8971485 ],\n",
       "       [-1.4494698 , -4.0347714 ],\n",
       "       [ 0.6641421 ,  2.995846  ],\n",
       "       [ 0.15591967, -4.2974567 ],\n",
       "       [ 1.0579866 ,  3.026881  ],\n",
       "       [-1.0021555 ,  1.1353832 ],\n",
       "       [-0.7876595 ,  1.4792321 ],\n",
       "       [-0.7877412 ,  1.4786577 ],\n",
       "       [ 1.0797219 ,  3.0264928 ],\n",
       "       [-1.7389259 , -2.068852  ],\n",
       "       [ 3.0488365 ,  2.823791  ],\n",
       "       [ 3.3709874 ,  2.6448474 ],\n",
       "       [ 4.2438126 ,  1.9794779 ],\n",
       "       [ 0.66390723,  2.9957924 ],\n",
       "       [-1.2298568 ,  0.06303842],\n",
       "       [-1.2584115 , -4.2060604 ],\n",
       "       [ 0.6628267 ,  2.9955323 ],\n",
       "       [ 1.2722569 ,  3.024521  ],\n",
       "       [-0.39053038, -4.457457  ],\n",
       "       [ 1.2889112 ,  3.024253  ],\n",
       "       [ 3.4009054 ,  2.6261613 ]], dtype=float32)"
      ]
     },
     "execution_count": 31,
     "metadata": {},
     "output_type": "execute_result"
    }
   ],
   "execution_count": 31
  },
  {
   "metadata": {
    "ExecuteTime": {
     "end_time": "2024-05-04T18:05:57.770500Z",
     "start_time": "2024-05-04T18:05:57.663213Z"
    }
   },
   "cell_type": "code",
   "source": [
    "#plot results\n",
    "plt.figure(figsize=(10,10))\n",
    "plt.scatter(X_embedded[:,0], X_embedded[:,1], c=df['CID'], cmap='viridis')\n",
    "plt.colorbar()\n",
    "plt.show()\n"
   ],
   "id": "432547d5554d579f",
   "outputs": [
    {
     "data": {
      "text/plain": [
       "<Figure size 1000x1000 with 2 Axes>"
      ],
      "image/png": "[encoded data removed]"
     },
     "metadata": {},
     "output_type": "display_data"
    }
   ],
   "execution_count": 40
  },
  {
   "metadata": {},
   "cell_type": "markdown",
   "source": "# DBSCAN",
   "id": "beb64787e13389fe"
  },
  {
   "metadata": {
    "ExecuteTime": {
     "end_time": "2024-05-04T18:10:15.001905Z",
     "start_time": "2024-05-04T18:10:14.998802Z"
    }
   },
   "cell_type": "code",
   "source": [
    "cluster = DBSCAN(eps=0.5, min_samples=5).fit(X_embedded)\n",
    "clustering_labels = cluster.labels_"
   ],
   "id": "d5219767906b1c21",
   "outputs": [],
   "execution_count": 44
  },
  {
   "metadata": {
    "ExecuteTime": {
     "end_time": "2024-05-04T18:11:43.830927Z",
     "start_time": "2024-05-04T18:11:43.744079Z"
    }
   },
   "cell_type": "code",
   "source": [
    "#plot results\n",
    "plt.figure(figsize=(10,10))\n",
    "plt.scatter(X_embedded[:,0], X_embedded[:,1], c=clustering_labels, cmap='viridis')\n",
    "plt.colorbar()\n",
    "plt.show()\n"
   ],
   "id": "a455cbdef84d2eef",
   "outputs": [
    {
     "data": {
      "text/plain": [
       "<Figure size 1000x1000 with 2 Axes>"
      ],
      "image/png": "[encoded data removed]"
     },
     "metadata": {},
     "output_type": "display_data"
    }
   ],
   "execution_count": 47
  },
  {
   "metadata": {},
   "cell_type": "code",
   "outputs": [],
   "execution_count": null,
   "source": "",
   "id": "32edcdbce60416e2"
  }
 ],
 "metadata": {
  "kernelspec": {
   "display_name": "Python 3",
   "language": "python",
   "name": "python3"
  },
  "language_info": {
   "codemirror_mode": {
    "name": "ipython",
    "version": 2
   },
   "file_extension": ".py",
   "mimetype": "text/x-python",
   "name": "python",
   "nbconvert_exporter": "python",
   "pygments_lexer": "ipython2",
   "version": "2.7.6"
  }
 },
 "nbformat": 4,
 "nbformat_minor": 5
}
