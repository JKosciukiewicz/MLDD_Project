{
 "cells": [
  {
   "cell_type": "code",
   "id": "initial_id",
   "metadata": {
    "collapsed": true,
    "ExecuteTime": {
     "end_time": "2024-05-04T18:09:48.128133Z",
     "start_time": "2024-05-04T18:09:48.042018Z"
    }
   },
   "source": [
    "import pandas as pd\n",
    "import numpy as np\n",
    "from sklearn.manifold import TSNE\n",
    "from sklearn.cluster import DBSCAN\n",
    "\n",
    "import matplotlib.pyplot as plt"
   ],
   "outputs": [],
   "execution_count": 42
  },
  {
   "metadata": {
    "ExecuteTime": {
     "end_time": "2024-05-04T20:26:04.122732Z",
     "start_time": "2024-05-04T20:26:04.114699Z"
    }
   },
   "cell_type": "code",
   "source": [
    "# read csv\n",
    "df=pd.read_csv('./data/combined_output.csv', sep=';')\n",
    "# drop incomplete rows\n",
    "df = df.dropna()\n",
    "# drop CID column\n",
    "df = df.drop(columns=['CID'])\n",
    "df"
   ],
   "id": "d7e7c365d75d13ea",
   "outputs": [
    {
     "data": {
      "text/plain": [
       "    MolecularWeight  XLogP  HBondDonorCount  HBondAcceptorCount\n",
       "0            418.60    4.7                1                   5\n",
       "1            308.80    2.1                0                   3\n",
       "2            308.30    2.7                1                   4\n",
       "3            422.90    4.3                2                   5\n",
       "4            284.74    3.0                0                   2\n",
       "..              ...    ...              ...                 ...\n",
       "79          1093.30    0.3               16                  18\n",
       "80           390.22   -0.1                2                   4\n",
       "81          1239.40   -0.1               15                  15\n",
       "82          1431.00    1.9               16                  16\n",
       "84           730.70   -8.6               12                  20\n",
       "\n",
       "[83 rows x 4 columns]"
      ],
      "text/html": [
       "<div>\n",
       "<style scoped>\n",
       "    .dataframe tbody tr th:only-of-type {\n",
       "        vertical-align: middle;\n",
       "    }\n",
       "\n",
       "    .dataframe tbody tr th {\n",
       "        vertical-align: top;\n",
       "    }\n",
       "\n",
       "    .dataframe thead th {\n",
       "        text-align: right;\n",
       "    }\n",
       "</style>\n",
       "<table border=\"1\" class=\"dataframe\">\n",
       "  <thead>\n",
       "    <tr style=\"text-align: right;\">\n",
       "      <th></th>\n",
       "      <th>MolecularWeight</th>\n",
       "      <th>XLogP</th>\n",
       "      <th>HBondDonorCount</th>\n",
       "      <th>HBondAcceptorCount</th>\n",
       "    </tr>\n",
       "  </thead>\n",
       "  <tbody>\n",
       "    <tr>\n",
       "      <th>0</th>\n",
       "      <td>418.60</td>\n",
       "      <td>4.7</td>\n",
       "      <td>1</td>\n",
       "      <td>5</td>\n",
       "    </tr>\n",
       "    <tr>\n",
       "      <th>1</th>\n",
       "      <td>308.80</td>\n",
       "      <td>2.1</td>\n",
       "      <td>0</td>\n",
       "      <td>3</td>\n",
       "    </tr>\n",
       "    <tr>\n",
       "      <th>2</th>\n",
       "      <td>308.30</td>\n",
       "      <td>2.7</td>\n",
       "      <td>1</td>\n",
       "      <td>4</td>\n",
       "    </tr>\n",
       "    <tr>\n",
       "      <th>3</th>\n",
       "      <td>422.90</td>\n",
       "      <td>4.3</td>\n",
       "      <td>2</td>\n",
       "      <td>5</td>\n",
       "    </tr>\n",
       "    <tr>\n",
       "      <th>4</th>\n",
       "      <td>284.74</td>\n",
       "      <td>3.0</td>\n",
       "      <td>0</td>\n",
       "      <td>2</td>\n",
       "    </tr>\n",
       "    <tr>\n",
       "      <th>...</th>\n",
       "      <td>...</td>\n",
       "      <td>...</td>\n",
       "      <td>...</td>\n",
       "      <td>...</td>\n",
       "    </tr>\n",
       "    <tr>\n",
       "      <th>79</th>\n",
       "      <td>1093.30</td>\n",
       "      <td>0.3</td>\n",
       "      <td>16</td>\n",
       "      <td>18</td>\n",
       "    </tr>\n",
       "    <tr>\n",
       "      <th>80</th>\n",
       "      <td>390.22</td>\n",
       "      <td>-0.1</td>\n",
       "      <td>2</td>\n",
       "      <td>4</td>\n",
       "    </tr>\n",
       "    <tr>\n",
       "      <th>81</th>\n",
       "      <td>1239.40</td>\n",
       "      <td>-0.1</td>\n",
       "      <td>15</td>\n",
       "      <td>15</td>\n",
       "    </tr>\n",
       "    <tr>\n",
       "      <th>82</th>\n",
       "      <td>1431.00</td>\n",
       "      <td>1.9</td>\n",
       "      <td>16</td>\n",
       "      <td>16</td>\n",
       "    </tr>\n",
       "    <tr>\n",
       "      <th>84</th>\n",
       "      <td>730.70</td>\n",
       "      <td>-8.6</td>\n",
       "      <td>12</td>\n",
       "      <td>20</td>\n",
       "    </tr>\n",
       "  </tbody>\n",
       "</table>\n",
       "<p>83 rows × 4 columns</p>\n",
       "</div>"
      ]
     },
     "execution_count": 48,
     "metadata": {},
     "output_type": "execute_result"
    }
   ],
   "execution_count": 48
  },
  {
   "metadata": {
    "ExecuteTime": {
     "end_time": "2024-05-04T20:26:05.858536Z",
     "start_time": "2024-05-04T20:26:05.855480Z"
    }
   },
   "cell_type": "code",
   "source": [
    "# convert to numpy array\n",
    "X = df.to_numpy()\n",
    "X.shape"
   ],
   "id": "f88279b52a0c81c9",
   "outputs": [
    {
     "data": {
      "text/plain": [
       "(83, 4)"
      ]
     },
     "execution_count": 49,
     "metadata": {},
     "output_type": "execute_result"
    }
   ],
   "execution_count": 49
  },
  {
   "metadata": {},
   "cell_type": "markdown",
   "source": "# TSNE",
   "id": "20dbc63e2ef6e60f"
  },
  {
   "metadata": {
    "ExecuteTime": {
     "end_time": "2024-05-04T20:26:07.205650Z",
     "start_time": "2024-05-04T20:26:06.750748Z"
    }
   },
   "cell_type": "code",
   "source": [
    "# TSNE\n",
    "X_embedded = TSNE(n_components=2).fit_transform(X)\n",
    "X_embedded"
   ],
   "id": "cd75f12514d999fc",
   "outputs": [
    {
     "data": {
      "text/plain": [
       "array([[-0.27038237, -2.5645218 ],\n",
       "       [-2.032186  , -5.6215525 ],\n",
       "       [-1.7777015 , -5.789966  ],\n",
       "       [-0.206939  , -2.4866428 ],\n",
       "       [-2.2478807 , -6.3948836 ],\n",
       "       [-1.1949275 , -5.3791723 ],\n",
       "       [-1.8789669 , -6.788079  ],\n",
       "       [-0.85302675, -4.1365685 ],\n",
       "       [-0.60998   , -3.1930852 ],\n",
       "       [ 0.32469675, -1.6982317 ],\n",
       "       [-2.636337  , -7.325666  ],\n",
       "       [-2.4723012 , -7.499139  ],\n",
       "       [-2.3402073 , -6.5624175 ],\n",
       "       [-1.333118  , -5.799164  ],\n",
       "       [-0.4572113 , -3.6350274 ],\n",
       "       [-2.2446876 , -7.1698413 ],\n",
       "       [-1.1949275 , -5.3791723 ],\n",
       "       [-1.7177678 , -5.201372  ],\n",
       "       [ 0.41674277, -1.6424037 ],\n",
       "       [-1.6176411 , -6.3252006 ],\n",
       "       [-1.4427471 , -4.9617987 ],\n",
       "       [ 0.28184727, -2.3063529 ],\n",
       "       [-0.6477043 , -3.6538544 ],\n",
       "       [-1.4073399 , -6.0596123 ],\n",
       "       [ 0.5952027 , -1.6763153 ],\n",
       "       [-0.82400393, -4.1153407 ],\n",
       "       [-2.0132093 , -6.9999986 ],\n",
       "       [-2.5317504 , -7.592714  ],\n",
       "       [-0.3682742 , -3.5316985 ],\n",
       "       [-1.4360316 , -4.974344  ],\n",
       "       [ 0.06283593, -2.797784  ],\n",
       "       [-1.8824499 , -5.4164457 ],\n",
       "       [ 0.54836273, -1.9512106 ],\n",
       "       [ 0.05660988, -2.7941494 ],\n",
       "       [-3.2709887 , -8.30987   ],\n",
       "       [-2.2286282 , -6.2050753 ],\n",
       "       [-1.0969123 , -4.8171253 ],\n",
       "       [-2.5056374 , -6.858239  ],\n",
       "       [-2.064591  , -5.694226  ],\n",
       "       [ 0.08921792, -2.1191516 ],\n",
       "       [-0.670827  , -3.4504673 ],\n",
       "       [-2.9676037 , -8.131086  ],\n",
       "       [-2.7519214 , -7.9000306 ],\n",
       "       [-3.3097498 , -8.3335705 ],\n",
       "       [-3.2039068 , -8.265254  ],\n",
       "       [-2.0974622 , -5.736249  ],\n",
       "       [-0.05012247, -3.0359206 ],\n",
       "       [-0.3776294 , -2.7743862 ],\n",
       "       [-1.0900388 , -4.5920644 ],\n",
       "       [-1.3809226 , -5.921462  ],\n",
       "       [ 2.9694016 ,  1.6265341 ],\n",
       "       [ 3.0314872 ,  2.3440561 ],\n",
       "       [ 1.9847821 ,  0.25813365],\n",
       "       [ 2.848527  ,  3.4477603 ],\n",
       "       [ 2.8530946 ,  1.4881936 ],\n",
       "       [ 2.4920902 ,  1.0714546 ],\n",
       "       [ 2.584601  ,  1.2420365 ],\n",
       "       [ 2.3728738 ,  4.3486514 ],\n",
       "       [ 2.6387465 ,  3.873536  ],\n",
       "       [ 2.0604172 ,  0.37200224],\n",
       "       [ 3.018072  ,  2.4852655 ],\n",
       "       [ 2.3024457 ,  4.4685564 ],\n",
       "       [ 2.662913  ,  1.7543485 ],\n",
       "       [ 2.083625  ,  0.41315895],\n",
       "       [ 3.001527  ,  2.9990492 ],\n",
       "       [-1.5439548 , -6.1850495 ],\n",
       "       [ 3.0262394 ,  2.7163513 ],\n",
       "       [ 2.7252462 ,  1.9371319 ],\n",
       "       [ 3.0762553 ,  1.9464998 ],\n",
       "       [ 2.6361659 ,  1.3328414 ],\n",
       "       [-3.2523332 , -8.296296  ],\n",
       "       [ 2.724593  ,  1.9396938 ],\n",
       "       [ 2.3676913 ,  4.3572907 ],\n",
       "       [ 0.8165726 , -1.2883468 ],\n",
       "       [ 2.9675994 ,  3.1174371 ],\n",
       "       [ 2.3069384 ,  4.462123  ],\n",
       "       [ 0.98141015, -1.0915031 ],\n",
       "       [ 0.6801058 , -1.5264031 ],\n",
       "       [ 2.6303327 ,  1.3238094 ],\n",
       "       [-0.25769648, -3.3564665 ],\n",
       "       [ 3.026015  ,  1.7432797 ],\n",
       "       [ 3.0500715 ,  2.2975035 ],\n",
       "       [ 1.7700393 , -0.05017296]], dtype=float32)"
      ]
     },
     "execution_count": 50,
     "metadata": {},
     "output_type": "execute_result"
    }
   ],
   "execution_count": 50
  },
  {
   "metadata": {
    "ExecuteTime": {
     "end_time": "2024-05-04T20:26:32.421492Z",
     "start_time": "2024-05-04T20:26:32.330493Z"
    }
   },
   "cell_type": "code",
   "source": [
    "#plot results\n",
    "plt.figure(figsize=(10,10))\n",
    "plt.scatter(X_embedded[:,0], X_embedded[:,1])\n",
    "plt.colorbar()\n",
    "plt.show()\n"
   ],
   "id": "432547d5554d579f",
   "outputs": [
    {
     "data": {
      "text/plain": [
       "<Figure size 1000x1000 with 2 Axes>"
      ],
      "image/png": "[encoded data removed]"
     },
     "metadata": {},
     "output_type": "display_data"
    }
   ],
   "execution_count": 54
  },
  {
   "metadata": {},
   "cell_type": "markdown",
   "source": "# DBSCAN",
   "id": "beb64787e13389fe"
  },
  {
   "metadata": {
    "ExecuteTime": {
     "end_time": "2024-05-04T20:26:34.852369Z",
     "start_time": "2024-05-04T20:26:34.849699Z"
    }
   },
   "cell_type": "code",
   "source": [
    "cluster = DBSCAN(eps=0.5, min_samples=5).fit(X_embedded)\n",
    "clustering_labels = cluster.labels_"
   ],
   "id": "d5219767906b1c21",
   "outputs": [],
   "execution_count": 55
  },
  {
   "metadata": {
    "ExecuteTime": {
     "end_time": "2024-05-04T20:26:36.296248Z",
     "start_time": "2024-05-04T20:26:36.194782Z"
    }
   },
   "cell_type": "code",
   "source": [
    "#plot results\n",
    "plt.figure(figsize=(10,10))\n",
    "plt.scatter(X_embedded[:,0], X_embedded[:,1], c=clustering_labels, cmap='viridis')\n",
    "plt.colorbar()\n",
    "plt.show()\n"
   ],
   "id": "a455cbdef84d2eef",
   "outputs": [
    {
     "data": {
      "text/plain": [
       "<Figure size 1000x1000 with 2 Axes>"
      ],
      "image/png": "[encoded data removed]"
     },
     "metadata": {},
     "output_type": "display_data"
    }
   ],
   "execution_count": 56
  },
  {
   "metadata": {},
   "cell_type": "code",
   "outputs": [],
   "execution_count": null,
   "source": "",
   "id": "32edcdbce60416e2"
  }
 ],
 "metadata": {
  "kernelspec": {
   "display_name": "Python 3",
   "language": "python",
   "name": "python3"
  },
  "language_info": {
   "codemirror_mode": {
    "name": "ipython",
    "version": 2
   },
   "file_extension": ".py",
   "mimetype": "text/x-python",
   "name": "python",
   "nbconvert_exporter": "python",
   "pygments_lexer": "ipython2",
   "version": "2.7.6"
  }
 },
 "nbformat": 4,
 "nbformat_minor": 5
}
