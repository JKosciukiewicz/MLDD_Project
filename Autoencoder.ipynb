{
 "cells": [
  {
   "metadata": {},
   "cell_type": "markdown",
   "source": "# Autoencoder",
   "id": "d87221b371d7acb5"
  },
  {
   "cell_type": "code",
   "id": "initial_id",
   "metadata": {
    "collapsed": true,
    "ExecuteTime": {
     "end_time": "2024-05-04T08:49:10.198077Z",
     "start_time": "2024-05-04T08:49:10.196089Z"
    }
   },
   "source": [
    "import pandas as pd\n",
    "import torch\n",
    "import torch.nn as nn\n",
    "import torch.optim as optim\n",
    "\n",
    "from sklearn.model_selection import train_test_split\n",
    "from sklearn.preprocessing import MinMaxScaler, OneHotEncoder\n"
   ],
   "outputs": [],
   "execution_count": 95
  },
  {
   "metadata": {},
   "cell_type": "markdown",
   "source": "### Prepare the dataset",
   "id": "ebcd7413841ebf73"
  },
  {
   "metadata": {
    "ExecuteTime": {
     "end_time": "2024-05-04T08:49:10.204607Z",
     "start_time": "2024-05-04T08:49:10.198934Z"
    }
   },
   "cell_type": "code",
   "source": [
    "# Load data from ./data directory\n",
    "data = pd.read_csv(\"./data/test_bioactivity_data_raw.csv\")"
   ],
   "id": "603958f4579027c6",
   "outputs": [],
   "execution_count": 96
  },
  {
   "metadata": {},
   "cell_type": "markdown",
   "source": "Convert text data to floats",
   "id": "5268a89dc37df0e"
  },
  {
   "metadata": {
    "ExecuteTime": {
     "end_time": "2024-05-04T08:49:10.229933Z",
     "start_time": "2024-05-04T08:49:10.217285Z"
    }
   },
   "cell_type": "code",
   "source": [
    "# Select only string columns for one-hot encoding\n",
    "import pandas as pd\n",
    "from sklearn.preprocessing import OneHotEncoder\n",
    "from sklearn.compose import ColumnTransformer\n",
    "from sklearn.preprocessing import StandardScaler\n",
    "\n",
    "# Load the data from CSV\n",
    "\n",
    "# Drop any rows with missing values\n",
    "data = data.dropna()\n",
    "\n",
    "# Separate features and target variable\n",
    "X = data.drop(columns=['standard_value'])  # Features\n",
    "y = data['standard_value']  # Target\n",
    "\n",
    "# Convert categorical variables to one-hot encoding\n",
    "categorical_cols = ['molecule_chembl_id', 'canonical_smiles', 'bioactivity_class']\n",
    "numerical_cols = list(set(X.columns) - set(categorical_cols))\n",
    "\n",
    "preprocessor = ColumnTransformer(\n",
    "    transformers=[\n",
    "        ('cat', OneHotEncoder(), categorical_cols),\n",
    "        ('num', StandardScaler(), numerical_cols)\n",
    "    ])\n",
    "\n",
    "X_processed = preprocessor.fit_transform(X)\n",
    "\n"
   ],
   "id": "263b6ab85e348491",
   "outputs": [],
   "execution_count": 97
  },
  {
   "metadata": {
    "ExecuteTime": {
     "end_time": "2024-05-04T08:49:10.232662Z",
     "start_time": "2024-05-04T08:49:10.230819Z"
    }
   },
   "cell_type": "code",
   "source": "X_processed.shape",
   "id": "39ed60952c0316ad",
   "outputs": [
    {
     "data": {
      "text/plain": [
       "(3463, 5197)"
      ]
     },
     "execution_count": 98,
     "metadata": {},
     "output_type": "execute_result"
    }
   ],
   "execution_count": 98
  },
  {
   "metadata": {
    "ExecuteTime": {
     "end_time": "2024-05-04T08:49:10.235098Z",
     "start_time": "2024-05-04T08:49:10.233194Z"
    }
   },
   "cell_type": "code",
   "source": [
    "input_dim=X_processed[0].shape[1]\n",
    "input_dim"
   ],
   "id": "2f1f13f656ca5062",
   "outputs": [
    {
     "data": {
      "text/plain": [
       "5197"
      ]
     },
     "execution_count": 99,
     "metadata": {},
     "output_type": "execute_result"
    }
   ],
   "execution_count": 99
  },
  {
   "metadata": {
    "ExecuteTime": {
     "end_time": "2024-05-04T08:49:10.238269Z",
     "start_time": "2024-05-04T08:49:10.236129Z"
    }
   },
   "cell_type": "code",
   "source": [
    "class Autoencoder(nn.Module):\n",
    "    def __init__(self, input_size):\n",
    "        super().__init__()\n",
    "        \n",
    "        self.encoder=nn.Sequential(\n",
    "            nn.Linear(input_size, int(input_size/2)),\n",
    "            nn.ReLU(),\n",
    "            nn.Linear(int(input_size/2), int(input_size/4)),\n",
    "        )\n",
    "        \n",
    "        self.decoder=nn.Sequential(\n",
    "            nn.Linear(int(input_size/4), int(input_size/2)),\n",
    "            nn.ReLU(),\n",
    "            nn.Linear(int(input_size/2), input_size),\n",
    "            nn.Sigmoid()\n",
    "        )\n",
    "        \n",
    "    def forward(self, x):\n",
    "        encoded=self.encoder(x)\n",
    "        decoded=self.decoder(encoded)\n",
    "        return decoded\n",
    "    "
   ],
   "id": "ad1c794f9e15e63",
   "outputs": [],
   "execution_count": 100
  },
  {
   "metadata": {
    "ExecuteTime": {
     "end_time": "2024-05-04T08:49:10.240729Z",
     "start_time": "2024-05-04T08:49:10.238827Z"
    }
   },
   "cell_type": "code",
   "source": "train, test = train_test_split(X_processed, test_size=0.2)",
   "id": "2546b27e6cc076ca",
   "outputs": [],
   "execution_count": 101
  },
  {
   "metadata": {
    "ExecuteTime": {
     "end_time": "2024-05-04T08:49:10.329572Z",
     "start_time": "2024-05-04T08:49:10.241159Z"
    }
   },
   "cell_type": "code",
   "source": [
    "model = Autoencoder(input_dim)\n",
    "criterion = nn.MSELoss()\n",
    "optimizer = optim.Adam(model.parameters(), lr=1e-3, weight_decay=1e-5)"
   ],
   "id": "6291e81dd3522c50",
   "outputs": [],
   "execution_count": 102
  },
  {
   "metadata": {
    "ExecuteTime": {
     "end_time": "2024-05-04T08:49:10.339654Z",
     "start_time": "2024-05-04T08:49:10.330329Z"
    }
   },
   "cell_type": "code",
   "source": [
    "for epoch in range(X_processed.shape[0]):\n",
    "    input = X_processed[epoch].toTensor()\n",
    "    # Forward pass\n",
    "    output = model(input)\n",
    "    loss = criterion(output, input)\n",
    "    \n",
    "    # Backward pass and optimization step\n",
    "    optimizer.zero_grad()\n",
    "    loss.backward()\n",
    "    optimizer.step()\n"
   ],
   "id": "6692b1c2cf3ffa6c",
   "outputs": [
    {
     "ename": "AttributeError",
     "evalue": "'csr_matrix' object has no attribute 'toTensor'",
     "output_type": "error",
     "traceback": [
      "\u001B[0;31m---------------------------------------------------------------------------\u001B[0m",
      "\u001B[0;31mAttributeError\u001B[0m                            Traceback (most recent call last)",
      "Cell \u001B[0;32mIn[103], line 2\u001B[0m\n\u001B[1;32m      1\u001B[0m \u001B[38;5;28;01mfor\u001B[39;00m epoch \u001B[38;5;129;01min\u001B[39;00m \u001B[38;5;28mrange\u001B[39m(X_processed\u001B[38;5;241m.\u001B[39mshape[\u001B[38;5;241m0\u001B[39m]):\n\u001B[0;32m----> 2\u001B[0m     \u001B[38;5;28minput\u001B[39m \u001B[38;5;241m=\u001B[39m X_processed[epoch]\u001B[38;5;241m.\u001B[39mtoTensor()\n\u001B[1;32m      3\u001B[0m     \u001B[38;5;66;03m# Forward pass\u001B[39;00m\n\u001B[1;32m      4\u001B[0m     output \u001B[38;5;241m=\u001B[39m model(\u001B[38;5;28minput\u001B[39m)\n",
      "\u001B[0;31mAttributeError\u001B[0m: 'csr_matrix' object has no attribute 'toTensor'"
     ]
    }
   ],
   "execution_count": 103
  },
  {
   "metadata": {},
   "cell_type": "code",
   "source": "",
   "id": "be919a3808c61fdd",
   "outputs": [],
   "execution_count": null
  },
  {
   "metadata": {},
   "cell_type": "code",
   "source": "",
   "id": "d055a385581dda70",
   "outputs": [],
   "execution_count": null
  }
 ],
 "metadata": {
  "kernelspec": {
   "display_name": "Python 3",
   "language": "python",
   "name": "python3"
  },
  "language_info": {
   "codemirror_mode": {
    "name": "ipython",
    "version": 2
   },
   "file_extension": ".py",
   "mimetype": "text/x-python",
   "name": "python",
   "nbconvert_exporter": "python",
   "pygments_lexer": "ipython2",
   "version": "2.7.6"
  }
 },
 "nbformat": 4,
 "nbformat_minor": 5
}
