{
 "cells": [
  {
   "cell_type": "code",
   "id": "c9c0a382-a0cd-4c47-a3de-d1c2df906fac",
   "metadata": {
    "ExecuteTime": {
     "end_time": "2024-06-06T17:51:26.389680Z",
     "start_time": "2024-06-06T17:51:26.366207Z"
    }
   },
   "source": [
    "from chembl_webresource_client.new_client import new_client\n",
    "import pandas as pd\n",
    "\n",
    "\n",
    "molecule = new_client.molecule\n",
    "\n",
    "\n",
    "chembl_ids = ['CHEMBL485', 'CHEMBL70', 'CHEMBL113', 'CHEMBL3', 'CHEMBL517712', 'CHEMBL170', 'CHEMBL4596781', 'CHEMBL4803817', 'CHEMBL4597035', 'CHEMBL5028438', 'CHEMBL5028232']\n",
    "\n",
    "\n",
    "def get_molecules(chembl_ids):\n",
    "    molecule_dict={}\n",
    "    for chembl_id in chembl_ids:\n",
    "        try: \n",
    "            response = molecule.get(chembl_id)\n",
    "            molecule_dict[chembl_id]=response  \n",
    "        except Exception as e:\n",
    "            return str(e) \n",
    "        \n",
    "    return molecule_dict\n",
    "\n",
    "\n",
    "def check_natural(molecule):\n",
    "    return molecule['natural_product']\n",
    "    \n",
    "def check_analgesic(molecule):\n",
    "    return 1 if molecule['indication_class'] and 'Analgesic' in molecule['indication_class'] else 0\n",
    "    \n",
    "molecule_props=get_molecules(chembl_ids)    \n",
    "\n",
    "\n",
    "results = [(key, check_natural(value), check_analgesic(value)) for key,value in molecule_props.items()]\n",
    "\n",
    "results_df = pd.DataFrame(results, columns=['CHEMBL_ID', 'Is_Natural_Product', 'Is_Anaglesic'])\n",
    "results_df.to_csv('./data/natural_products3.csv', index=False)"
   ],
   "outputs": [],
   "execution_count": 36
  },
  {
   "metadata": {},
   "cell_type": "code",
   "outputs": [],
   "execution_count": null,
   "source": "",
   "id": "4f9eed30c1ee28df"
  }
 ],
 "metadata": {
  "kernelspec": {
   "display_name": "Python 3 (ipykernel)",
   "language": "python",
   "name": "python3"
  },
  "language_info": {
   "codemirror_mode": {
    "name": "ipython",
    "version": 3
   },
   "file_extension": ".py",
   "mimetype": "text/x-python",
   "name": "python",
   "nbconvert_exporter": "python",
   "pygments_lexer": "ipython3",
   "version": "3.10.13"
  }
 },
 "nbformat": 4,
 "nbformat_minor": 5
}
