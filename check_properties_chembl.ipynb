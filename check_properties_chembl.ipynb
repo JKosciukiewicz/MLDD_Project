{
 "cells": [
  {
   "metadata": {
    "ExecuteTime": {
     "end_time": "2024-06-07T19:57:02.736063Z",
     "start_time": "2024-06-07T19:57:02.733361Z"
    }
   },
   "cell_type": "code",
   "source": [
    "from chembl_webresource_client.new_client import new_client\n",
    "import pandas as pd"
   ],
   "id": "fa8bb7a8d601629c",
   "outputs": [],
   "execution_count": 43
  },
  {
   "metadata": {
    "ExecuteTime": {
     "end_time": "2024-06-07T19:57:03.234750Z",
     "start_time": "2024-06-07T19:57:03.230307Z"
    }
   },
   "cell_type": "code",
   "source": [
    "# Read chembl ids from txt\n",
    "src_file_path='./data/CHEMBL_ID2.txt'\n",
    "chembl_ids=[]\n",
    "with open(src_file_path) as ids_txt:\n",
    "    for id in ids_txt.read().split(','):\n",
    "        chembl_ids.append(id.replace(' ',''))\n",
    "chembl_ids"
   ],
   "id": "ada103d47659d8aa",
   "outputs": [
    {
     "data": {
      "text/plain": [
       "['CHEMBL70',\n",
       " 'CHEMBL485',\n",
       " 'CHEMBL364713',\n",
       " 'CHEMBL19224',\n",
       " 'CHEMBL459324',\n",
       " 'CHEMBL656',\n",
       " 'CHEMBL1712170',\n",
       " 'CHEMBL651',\n",
       " 'CHEMBL1595',\n",
       " 'CHEMBL1237044',\n",
       " 'CHEMBL100116',\n",
       " 'CHEMBL33986',\n",
       " 'CHEMBL895',\n",
       " 'CHEMBL592',\n",
       " 'CHEMBL1201776',\n",
       " 'CHEMBL607',\n",
       " 'CHEMBL596',\n",
       " 'CHEMBL658',\n",
       " 'CHEMBL634',\n",
       " 'CHEMBL1005',\n",
       " 'CHEMBL841',\n",
       " 'CHEMBL651',\n",
       " 'CHEMBL511142',\n",
       " 'CHEMBL656',\n",
       " 'CHEMBL963',\n",
       " 'CHEMBL398707',\n",
       " 'CHEMBL19019',\n",
       " 'CHEMBL80',\n",
       " 'CHEMBL1213351',\n",
       " 'CHEMBL1201294',\n",
       " 'CHEMBL140050',\n",
       " 'CHEMBL742',\n",
       " 'CHEMBL299031',\n",
       " 'CHEMBL5276190',\n",
       " 'CHEMBL403893',\n",
       " 'CHEMBL53',\n",
       " 'CHEMBL133836',\n",
       " 'CHEMBL112',\n",
       " 'CHEMBL521',\n",
       " 'CHEMBL25',\n",
       " 'CHEMBL24',\n",
       " 'CHEMBL12',\n",
       " 'CHEMBL1064',\n",
       " 'CHEMBL633',\n",
       " 'CHEMBL529',\n",
       " 'CHEMBL1464',\n",
       " 'CHEMBL1431',\n",
       " 'CHEMBL998',\n",
       " 'CHEMBL1487',\n",
       " 'CHEMBL1790041',\n",
       " 'CHEMBL35',\n",
       " 'CHEMBL384467',\n",
       " 'CHEMBL1503',\n",
       " 'CHEMBL1491',\n",
       " 'CHEMBL1624',\n",
       " 'CHEMBL8',\n",
       " 'CHEMBL841',\n",
       " 'CHEMBL472',\n",
       " 'CHEMBL13',\n",
       " 'CHEMBL532',\n",
       " 'CHEMBL139',\n",
       " 'CHEMBL1502',\n",
       " 'CHEMBL253376',\n",
       " 'CHEMBL157101',\n",
       " 'CHEMBL1741',\n",
       " 'CHEMBL1622',\n",
       " 'CHEMBL625',\n",
       " 'CHEMBL191',\n",
       " 'CHEMBL714',\n",
       " 'CHEMBL1560',\n",
       " 'CHEMBL27',\n",
       " 'CHEMBL190',\n",
       " 'CHEMBL196',\n",
       " 'CHEMBL547',\n",
       " 'CHEMBL3833377',\n",
       " 'CHEMBL12610',\n",
       " 'CHEMBL896',\n",
       " 'CHEMBL1705373',\n",
       " 'CHEMBL471',\n",
       " 'CHEMBL6966',\n",
       " 'CHEMBL184',\n",
       " 'CHEMBL46',\n",
       " 'CHEMBL185',\n",
       " 'CHEMBL192',\n",
       " 'CHEMBL41',\n",
       " 'CHEMBL809',\n",
       " 'CHEMBL549',\n",
       " 'CHEMBL1508',\n",
       " 'CHEMBL637',\n",
       " 'CHEMBL894']"
      ]
     },
     "execution_count": 44,
     "metadata": {},
     "output_type": "execute_result"
    }
   ],
   "execution_count": 44
  },
  {
   "cell_type": "code",
   "id": "c9c0a382-a0cd-4c47-a3de-d1c2df906fac",
   "metadata": {
    "ExecuteTime": {
     "end_time": "2024-06-07T20:01:42.520856Z",
     "start_time": "2024-06-07T20:01:42.442276Z"
    }
   },
   "source": [
    "molecule = new_client.molecule\n",
    "def get_molecules(chembl_ids):\n",
    "    molecule_dict={}\n",
    "    for chembl_id in chembl_ids:\n",
    "        try: \n",
    "            response = molecule.get(chembl_id)\n",
    "            molecule_dict[chembl_id]=response  \n",
    "        except Exception as e:\n",
    "            return str(e) \n",
    "        \n",
    "    return molecule_dict\n",
    "\n",
    "\n",
    "def check_natural(molecule):\n",
    "    return molecule['natural_product']\n",
    "    \n",
    "def check_analgesic(molecule):\n",
    "    return 1 if molecule['indication_class'] and 'Analgesic' in molecule['indication_class'] else 0\n",
    "\n",
    "\n",
    "    \n",
    "molecule_props=get_molecules(chembl_ids)    \n",
    "\n",
    "\n",
    "results = [(key, check_natural(value), check_analgesic(value), value['molecule_structures']['canonical_smiles']) for key,value in molecule_props.items()]\n",
    "\n",
    "results_df = pd.DataFrame(results, columns=['CHEMBL_ID', 'Is_Natural_Product', 'Is_Anaglesic', 'Smiles'])\n",
    "results_df.to_csv('./data/natural_products3.csv', index=False)"
   ],
   "outputs": [],
   "execution_count": 49
  },
  {
   "metadata": {
    "ExecuteTime": {
     "end_time": "2024-06-07T19:49:25.913992Z",
     "start_time": "2024-06-07T19:49:25.912743Z"
    }
   },
   "cell_type": "code",
   "source": "",
   "id": "4f9eed30c1ee28df",
   "outputs": [],
   "execution_count": 39
  }
 ],
 "metadata": {
  "kernelspec": {
   "display_name": "Python 3 (ipykernel)",
   "language": "python",
   "name": "python3"
  },
  "language_info": {
   "codemirror_mode": {
    "name": "ipython",
    "version": 3
   },
   "file_extension": ".py",
   "mimetype": "text/x-python",
   "name": "python",
   "nbconvert_exporter": "python",
   "pygments_lexer": "ipython3",
   "version": "3.10.13"
  }
 },
 "nbformat": 4,
 "nbformat_minor": 5
}
