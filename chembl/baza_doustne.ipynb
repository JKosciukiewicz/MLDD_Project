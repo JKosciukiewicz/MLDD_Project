{
 "cells": [
  {
   "cell_type": "code",
   "execution_count": 10,
   "id": "d667b1c4-0845-41ea-913f-1acfc9564bf0",
   "metadata": {},
   "outputs": [
    {
     "name": "stdout",
     "output_type": "stream",
     "text": [
      "Wszystkie dane zapisane do pliku 'combined_output.csv' z średnikami jako separatorami i jednym nagłówkiem na początku.\n"
     ]
    }
   ],
   "source": [
    "import requests\n",
    "\n",
    "cids = [54454, 2118,54678486, 3961, 3016, 2771, 2160, 5755, 110635, 446157, 444, 2554, 5656, 135398745, 3152, 3878, 146570, 60606, 135400189, 3639, 2764, 54671203, 5388962, 3365, 3488, 149096, 4171, 156391, 4679, 54676228, 5362129, 3001055, 135398744, 5833, 338, 1549008, 5284627, 33741, 5732, 60795, 2662, 2244, 3672, 4091, 1983, 68617, 5362119, 2162, 4594, 3386, 5284373, 14969, 445643, 16129704, 5311054, 448601, 5311065, 16129616, 16135415, 448812, 5282448, 53396299, 657181, 108147, 16136912, 33309, 21585658, 5311128, 6918173, 6918011, 21888462, 477468, 53395955, 76374506, 133065662, 16133850, 3001322, 92722, 16119814, 24801581, 50225, 25074887, 77910626]\n",
    "\n",
    "url_template = 'https://pubchem.ncbi.nlm.nih.gov/rest/pug/compound/cid/{cid}/property/MolecularWeight,XLogP,HBondDonorCount,HBondAcceptorCount/CSV'\n",
    "\n",
    "all_data = \"\"\n",
    "\n",
    "header_added = False\n",
    "\n",
    "for cid in cids:\n",
    "    url = url_template.format(cid=cid)\n",
    "\n",
    "    response = requests.get(url)\n",
    "\n",
    "    if response.status_code == 200:\n",
    "        updated_data = response.text.replace(',', ';')\n",
    "\n",
    "        if not header_added:\n",
    "            header = updated_data.splitlines()[0] + \"\\n\"\n",
    "            all_data += header\n",
    "            header_added = True\n",
    "\n",
    "        data_lines = updated_data.splitlines()[1:] \n",
    "        all_data += \"\\n\".join(data_lines) + \"\\n\"\n",
    "    else:\n",
    "        print(f\"Błąd pobierania danych dla CID {cid}: Status {response.status_code}\")\n",
    "\n",
    "with open('combined_output.csv', 'w') as file:\n",
    "    file.write(all_data)\n",
    "\n",
    "print(\"Wszystkie dane zapisane do pliku 'combined_output.csv' z średnikami jako separatorami i jednym nagłówkiem na początku.\")"
   ]
  },
  {
   "cell_type": "code",
   "execution_count": null,
   "id": "020e2526-4a0a-4e60-b4e2-846bdda5e903",
   "metadata": {},
   "outputs": [],
   "source": []
  },
  {
   "cell_type": "code",
   "execution_count": null,
   "id": "f34685ff-2d24-4f4a-9a1b-0d05d9ff90da",
   "metadata": {},
   "outputs": [],
   "source": []
  }
 ],
 "metadata": {
  "kernelspec": {
   "display_name": "Python 3 (ipykernel)",
   "language": "python",
   "name": "python3"
  },
  "language_info": {
   "codemirror_mode": {
    "name": "ipython",
    "version": 3
   },
   "file_extension": ".py",
   "mimetype": "text/x-python",
   "name": "python",
   "nbconvert_exporter": "python",
   "pygments_lexer": "ipython3",
   "version": "3.10.13"
  }
 },
 "nbformat": 4,
 "nbformat_minor": 5
}
