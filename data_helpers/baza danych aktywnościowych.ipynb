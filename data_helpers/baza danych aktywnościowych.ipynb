{
 "cells": [
  {
   "cell_type": "code",
   "execution_count": 2,
   "id": "de224a17-6605-4b33-b5b0-573ed7ce04a6",
   "metadata": {},
   "outputs": [
    {
     "name": "stdout",
     "output_type": "stream",
     "text": [
      "Wszystkie dane zapisane do pliku 'combined_output.csv' z średnikami jako separatorami i jednym nagłówkiem na początku.\n"
     ]
    }
   ],
   "source": [
    "import requests\n",
    "\n",
    "cids = [5288826]\n",
    "url_template = 'https://pubchem.ncbi.nlm.nih.gov/rest/pug/compound/cid/{cid}/property/MolecularWeight,XLogP,HBondDonorCount,HBondAcceptorCount/CSV'\n",
    "url_template = 'https://pubchem.ncbi.nlm.nih.gov/rest/pug/compound/cid/{cid}/assaysummary/CSV'\n",
    "all_data = \"\"\n",
    "\n",
    "header_added = False\n",
    "\n",
    "for cid in cids:\n",
    "    url = url_template.format(cid=cid)\n",
    "\n",
    "    response = requests.get(url)\n",
    "\n",
    "    if response.status_code == 200:\n",
    "        updated_data = response.text.replace(',', ';')\n",
    "\n",
    "        if not header_added:\n",
    "            header = updated_data.splitlines()[0] + \"\\n\"\n",
    "            all_data += header\n",
    "            header_added = True\n",
    "\n",
    "        data_lines = updated_data.splitlines()[1:] \n",
    "        all_data += \"\\n\".join(data_lines) + \"\\n\"\n",
    "    else:\n",
    "        print(f\"Błąd pobierania danych dla CID {cid}: Status {response.status_code}\")\n",
    "\n",
    "with open('combined_output_morphine.csv', 'w') as file:\n",
    "    file.write(all_data)\n",
    "\n",
    "print(\"Wszystkie dane zapisane do pliku 'combined_output.csv' z średnikami jako separatorami i jednym nagłówkiem na początku.\")"
   ]
  }
 ],
 "metadata": {
  "kernelspec": {
   "display_name": "Python 3 (ipykernel)",
   "language": "python",
   "name": "python3"
  },
  "language_info": {
   "codemirror_mode": {
    "name": "ipython",
    "version": 3
   },
   "file_extension": ".py",
   "mimetype": "text/x-python",
   "name": "python",
   "nbconvert_exporter": "python",
   "pygments_lexer": "ipython3",
   "version": "3.10.13"
  }
 },
 "nbformat": 4,
 "nbformat_minor": 5
}
