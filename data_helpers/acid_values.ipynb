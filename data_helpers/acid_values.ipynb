{
 "cells": [
  {
   "cell_type": "code",
   "execution_count": 8,
   "id": "20855092-4489-4200-9ee2-3098321c5ca0",
   "metadata": {},
   "outputs": [
    {
     "name": "stdout",
     "output_type": "stream",
     "text": [
      "Dane zapisane do chembl_pka_acid_values.csv\n"
     ]
    }
   ],
   "source": [
    "import requests\n",
    "import pandas as pd\n",
    "\n",
    "# Przykładowe ID ChEMBL alkaloidów (zamień na rzeczywiste ID)\n",
    "chembl_ids = chembl_ids = [\n",
    "    \"CHEMBL70\", \"CHEMBL485\", \"CHEMBL364713\", \"CHEMBL19224\", \"CHEMBL459324\",\n",
    "    \"CHEMBL656\", \"CHEMBL1712170\", \"CHEMBL651\", \"CHEMBL1595\", \"CHEMBL1237044\",\n",
    "    \"CHEMBL100116\", \"CHEMBL33986\", \"CHEMBL895\", \"CHEMBL592\", \"CHEMBL1201776\",\n",
    "    \"CHEMBL607\", \"CHEMBL596\", \"CHEMBL658\", \"CHEMBL634\", \"CHEMBL1005\",\n",
    "    \"CHEMBL841\", \"CHEMBL651\", \"CHEMBL511142\", \"CHEMBL656\", \"CHEMBL963\",\n",
    "    \"CHEMBL398707\", \"CHEMBL19019\", \"CHEMBL80\", \"CHEMBL1213351\", \"CHEMBL1201294\",\n",
    "    \"CHEMBL140050\", \"CHEMBL742\", \"CHEMBL299031\", \"CHEMBL5276190\", \"CHEMBL403893\",\n",
    "    \"CHEMBL53\", \"CHEMBL133836\", \"CHEMBL112\", \"CHEMBL521\", \"CHEMBL25\", \"CHEMBL24\",\n",
    "    \"CHEMBL12\", \"CHEMBL1064\", \"CHEMBL633\", \"CHEMBL529\", \"CHEMBL1464\", \"CHEMBL1431\",\n",
    "    \"CHEMBL998\", \"CHEMBL1487\", \"CHEMBL1790041\", \"CHEMBL35\", \"CHEMBL384467\",\n",
    "    \"CHEMBL1503\", \"CHEMBL1491\", \"CHEMBL1624\", \"CHEMBL8\", \"CHEMBL841\", \"CHEMBL472\",\n",
    "    \"CHEMBL13\", \"CHEMBL532\", \"CHEMBL139\", \"CHEMBL1502\", \"CHEMBL253376\",\n",
    "    \"CHEMBL157101\", \"CHEMBL1741\", \"CHEMBL1622\", \"CHEMBL625\", \"CHEMBL191\",\n",
    "    \"CHEMBL714\", \"CHEMBL1560\", \"CHEMBL27\", \"CHEMBL190\", \"CHEMBL196\", \"CHEMBL547\",\n",
    "    \"CHEMBL3833377\", \"CHEMBL12610\", \"CHEMBL896\", \"CHEMBL1705373\", \"CHEMBL471\",\n",
    "    \"CHEMBL6966\", \"CHEMBL184\", \"CHEMBL46\", \"CHEMBL185\", \"CHEMBL192\", \"CHEMBL41\",\n",
    "    \"CHEMBL809\", \"CHEMBL549\", \"CHEMBL1508\", \"CHEMBL637\", \"CHEMBL894\"\n",
    "]  # Zamień na rzeczywiste ID\n",
    "\n",
    "def fetch_pka_acid(chembl_id):\n",
    "    url = f\"https://www.ebi.ac.uk/chembl/api/data/molecule/{chembl_id}.json\"\n",
    "    response = requests.get(url)\n",
    "    if response.status_code == 200:\n",
    "        data = response.json()\n",
    "        # Wyciąganie wartości pKa dla kwasu\n",
    "        pka_acid = data.get('molecule_properties', {}).get('cx_most_apka')\n",
    "        return chembl_id, pka_acid\n",
    "    else:\n",
    "        return chembl_id, None\n",
    "\n",
    "# Inicjalizacja listy wyników\n",
    "results = []\n",
    "\n",
    "# Pobieranie danych dla każdego ID\n",
    "for chembl_id in chembl_ids:\n",
    "    result = fetch_pka_acid(chembl_id)\n",
    "    results.append(result)\n",
    "\n",
    "# Tworzenie DataFrame\n",
    "df = pd.DataFrame(results, columns=[\"ChEMBL_ID\", \"pKa_Acid\"])\n",
    "\n",
    "# Zapisywanie do pliku CSV\n",
    "df.to_csv(\"chembl_pka_acid_values.csv\", index=False)\n",
    "\n",
    "print(\"Dane zapisane do chembl_pka_acid_values.csv\")"
   ]
  },
  {
   "cell_type": "code",
   "execution_count": null,
   "id": "43289046-b739-4703-8b5f-1dd3bcaa720a",
   "metadata": {},
   "outputs": [],
   "source": []
  }
 ],
 "metadata": {
  "kernelspec": {
   "display_name": "Python 3 (ipykernel)",
   "language": "python",
   "name": "python3"
  },
  "language_info": {
   "codemirror_mode": {
    "name": "ipython",
    "version": 3
   },
   "file_extension": ".py",
   "mimetype": "text/x-python",
   "name": "python",
   "nbconvert_exporter": "python",
   "pygments_lexer": "ipython3",
   "version": "3.10.13"
  }
 },
 "nbformat": 4,
 "nbformat_minor": 5
}
