{
 "cells": [
  {
   "cell_type": "code",
   "execution_count": 1,
   "id": "c9c0a382-a0cd-4c47-a3de-d1c2df906fac",
   "metadata": {},
   "outputs": [],
   "source": [
    "from chembl_webresource_client.new_client import new_client\n",
    "import pandas as pd\n",
    "\n",
    "\n",
    "molecule = new_client.molecule\n",
    "\n",
    "\n",
    "chembl_ids = ['CHEMBL485', 'CHEMBL70', 'CHEMBL113', 'CHEMBL3', 'CHEMBL517712', 'CHEMBL170', 'CHEMBL4596781', 'CHEMBL4803817', 'CHEMBL4597035', 'CHEMBL5028438', 'CHEMBL5028232']\n",
    "\n",
    "def check_natural_product(chembl_id):\n",
    "    try:\n",
    "        response = molecule.get(chembl_id)\n",
    "        if response:\n",
    "            is_natural_product = response.get('natural_product', 'Data not available')\n",
    "            return is_natural_product\n",
    "        else:\n",
    "            return 'No data found'\n",
    "    except Exception as e:\n",
    "        return str(e) \n",
    "\n",
    "\n",
    "results = [(chembl_id, check_natural_product(chembl_id)) for chembl_id in chembl_ids]\n",
    "\n",
    "\n",
    "results_df = pd.DataFrame(results, columns=['CHEMBL_ID', 'Is_Natural_Product'])\n",
    "results_df.to_csv('natural_products3.csv', index=False)"
   ]
  }
 ],
 "metadata": {
  "kernelspec": {
   "display_name": "Python 3 (ipykernel)",
   "language": "python",
   "name": "python3"
  },
  "language_info": {
   "codemirror_mode": {
    "name": "ipython",
    "version": 3
   },
   "file_extension": ".py",
   "mimetype": "text/x-python",
   "name": "python",
   "nbconvert_exporter": "python",
   "pygments_lexer": "ipython3",
   "version": "3.10.13"
  }
 },
 "nbformat": 4,
 "nbformat_minor": 5
}
