{
 "cells": [
  {
   "metadata": {},
   "cell_type": "markdown",
   "source": [
    "# ChEMBL to CSV\n",
    "This notebook can be used to fetch bioactivity data from ChEMBL and save it to a csv file in ./data directory."
   ],
   "id": "72e352954faf6d35"
  },
  {
   "cell_type": "code",
   "id": "initial_id",
   "metadata": {
    "collapsed": true,
    "ExecuteTime": {
     "end_time": "2024-05-03T12:34:26.901417Z",
     "start_time": "2024-05-03T12:34:25.988367Z"
    }
   },
   "source": [
    "import pandas as pd\n",
    "from chembl_webresource_client.new_client import new_client"
   ],
   "execution_count": 2,
   "outputs": []
  },
  {
   "metadata": {},
   "cell_type": "markdown",
   "source": "## Search for target protein",
   "id": "6b95f6260895d41c"
  },
  {
   "metadata": {
    "ExecuteTime": {
     "end_time": "2024-05-03T12:34:26.914941Z",
     "start_time": "2024-05-03T12:34:26.902556Z"
    }
   },
   "cell_type": "code",
   "source": [
    "# Search for target protein\n",
    "target = new_client.target\n",
    "target_query = target.search('aromatase')\n",
    "targets = pd.DataFrame.from_dict(target_query)\n",
    "targets"
   ],
   "id": "d26ad0908223aec0",
   "execution_count": 3,
   "outputs": []
  },
  {
   "metadata": {
    "ExecuteTime": {
     "end_time": "2024-05-03T12:34:26.917703Z",
     "start_time": "2024-05-03T12:34:26.915502Z"
    }
   },
   "cell_type": "code",
   "source": [
    "selected_target = targets.target_chembl_id[0]\n",
    "selected_target"
   ],
   "id": "9732ef20b651c70",
   "execution_count": 4,
   "outputs": []
  },
  {
   "metadata": {
    "ExecuteTime": {
     "end_time": "2024-05-03T12:34:26.921361Z",
     "start_time": "2024-05-03T12:34:26.918824Z"
    }
   },
   "cell_type": "code",
   "source": [
    "activity = new_client.activity\n",
    "res = activity.filter(target_chembl_id=selected_target).filter(standard_type=\"IC50\")"
   ],
   "id": "4aae55906ad47681",
   "execution_count": 5,
   "outputs": []
  },
  {
   "metadata": {
    "ExecuteTime": {
     "end_time": "2024-05-03T12:34:27.093266Z",
     "start_time": "2024-05-03T12:34:26.921806Z"
    }
   },
   "cell_type": "code",
   "source": [
    "df = pd.DataFrame.from_dict(res)\n",
    "df.head(3)"
   ],
   "id": "af6680da5e612eae",
   "execution_count": 6,
   "outputs": []
  },
  {
   "metadata": {
    "ExecuteTime": {
     "end_time": "2024-05-03T12:34:27.096149Z",
     "start_time": "2024-05-03T12:34:27.093854Z"
    }
   },
   "cell_type": "code",
   "source": "df.standard_type.unique()",
   "id": "97e87db1d4c0daaf",
   "execution_count": 7,
   "outputs": []
  },
  {
   "metadata": {},
   "cell_type": "markdown",
   "source": "## Handle missing data",
   "id": "1243bc9cb8885328"
  },
  {
   "metadata": {
    "ExecuteTime": {
     "end_time": "2024-05-03T12:34:27.107972Z",
     "start_time": "2024-05-03T12:34:27.096672Z"
    }
   },
   "cell_type": "code",
   "source": [
    "df2 = df[df.standard_value.notna()]\n",
    "df2"
   ],
   "id": "7702ad06daef6d69",
   "execution_count": 8,
   "outputs": []
  },
  {
   "metadata": {
    "ExecuteTime": {
     "end_time": "2024-05-03T12:34:27.111529Z",
     "start_time": "2024-05-03T12:34:27.108639Z"
    }
   },
   "cell_type": "code",
   "source": [
    "bioactivity_class = []\n",
    "for i in df2.standard_value:\n",
    "  if float(i) >= 10000:\n",
    "    bioactivity_class.append(\"inactive\")\n",
    "  elif float(i) <= 1000:\n",
    "    bioactivity_class.append(\"active\")\n",
    "  else:\n",
    "    bioactivity_class.append(\"intermediate\")"
   ],
   "id": "55887448f231b4eb",
   "execution_count": 9,
   "outputs": []
  },
  {
   "metadata": {
    "ExecuteTime": {
     "end_time": "2024-05-03T12:34:27.113932Z",
     "start_time": "2024-05-03T12:34:27.112123Z"
    }
   },
   "cell_type": "code",
   "source": [
    "mol_cid = []\n",
    "for i in df2.molecule_chembl_id:\n",
    "  mol_cid.append(i)"
   ],
   "id": "4dafd4dfae4a1fc6",
   "execution_count": 10,
   "outputs": []
  },
  {
   "metadata": {
    "ExecuteTime": {
     "end_time": "2024-05-03T12:34:27.117406Z",
     "start_time": "2024-05-03T12:34:27.115844Z"
    }
   },
   "cell_type": "code",
   "source": [
    "canonical_smiles = []\n",
    "for i in df2.canonical_smiles:\n",
    "  canonical_smiles.append(i)"
   ],
   "id": "9316a0f0c4ea3bfc",
   "execution_count": 11,
   "outputs": []
  },
  {
   "metadata": {
    "ExecuteTime": {
     "end_time": "2024-05-03T12:34:27.119767Z",
     "start_time": "2024-05-03T12:34:27.117945Z"
    }
   },
   "cell_type": "code",
   "source": [
    "standard_value = []\n",
    "for i in df2.standard_value:\n",
    "  standard_value.append(i)"
   ],
   "id": "14b5a5f91f3e2e",
   "execution_count": 12,
   "outputs": []
  },
  {
   "metadata": {},
   "cell_type": "markdown",
   "source": "## Select values to save to csv",
   "id": "704506ce2c27322a"
  },
  {
   "metadata": {
    "ExecuteTime": {
     "end_time": "2024-05-03T12:34:27.123362Z",
     "start_time": "2024-05-03T12:34:27.120432Z"
    }
   },
   "cell_type": "code",
   "source": [
    "data_tuples = list(zip(mol_cid, canonical_smiles, bioactivity_class, standard_value))\n",
    "df3 = pd.DataFrame( data_tuples,  columns=['molecule_chembl_id', 'canonical_smiles', 'bioactivity_class', 'standard_value'])"
   ],
   "id": "f00191180a931a97",
   "execution_count": 13,
   "outputs": []
  },
  {
   "metadata": {
    "ExecuteTime": {
     "end_time": "2024-05-03T12:34:27.127891Z",
     "start_time": "2024-05-03T12:34:27.124082Z"
    }
   },
   "cell_type": "code",
   "source": "df3",
   "id": "3ff63f11e5d9e30",
   "execution_count": 14,
   "outputs": []
  },
  {
   "metadata": {},
   "cell_type": "markdown",
   "source": "## Save to csv in ./data",
   "id": "ae55d8767b1ff02"
  },
  {
   "metadata": {
    "ExecuteTime": {
     "end_time": "2024-05-03T12:34:27.134961Z",
     "start_time": "2024-05-03T12:34:27.128352Z"
    }
   },
   "cell_type": "code",
   "source": [
    "#save to csv file\n",
    "df3.to_csv('./data/test_bioactivity_data_raw.csv', index=False)"
   ],
   "id": "47f2126c75921516",
   "execution_count": 15,
   "outputs": []
  }
 ],
 "metadata": {
  "kernelspec": {
   "display_name": "Python 3",
   "language": "python",
   "name": "python3"
  },
  "language_info": {
   "codemirror_mode": {
    "name": "ipython",
    "version": 2
   },
   "file_extension": ".py",
   "mimetype": "text/x-python",
   "name": "python",
   "nbconvert_exporter": "python",
   "pygments_lexer": "ipython2",
   "version": "2.7.6"
  }
 },
 "nbformat": 4,
 "nbformat_minor": 5
}
