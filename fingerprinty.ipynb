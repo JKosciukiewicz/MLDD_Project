{
 "cells": [
  {
   "cell_type": "code",
   "execution_count": 1,
   "id": "6466fac4-22e5-4472-afa7-5131a7ef8bf6",
   "metadata": {},
   "outputs": [
    {
     "name": "stdout",
     "output_type": "stream",
     "text": [
      "   CHEMBL_ID                                             SMILES  \\\n",
      "0  CHEMBL485  COc1ccc2c3c1O[C@H]1[C@@H](O)C=C[C@H]4[C@@H](C2...   \n",
      "1   CHEMBL70  CN1CC[C@]23c4c5ccc(O)c4O[C@H]2[C@@H](O)C=C[C@H...   \n",
      "2  CHEMBL113                         Cn1c(=O)c2c(ncn2C)n(C)c1=O   \n",
      "\n",
      "                                  Morgan_Fingerprint  \n",
      "0  [0, 0, 0, 0, 0, 0, 0, 0, 0, 0, 0, 0, 0, 0, 0, ...  \n",
      "1  [0, 0, 0, 0, 0, 0, 0, 0, 0, 0, 0, 0, 0, 0, 0, ...  \n",
      "2  [0, 0, 0, 0, 0, 0, 0, 0, 0, 0, 0, 0, 0, 0, 0, ...  \n"
     ]
    }
   ],
   "source": [
    "from chembl_webresource_client.new_client import new_client\n",
    "from rdkit import Chem\n",
    "from rdkit.Chem import AllChem\n",
    "import pandas as pd\n",
    "\n",
    "\n",
    "molecule = new_client.molecule\n",
    "\n",
    "\n",
    "chembl_ids = ['CHEMBL485', 'CHEMBL70', 'CHEMBL113']\n",
    "\n",
    "\n",
    "def get_smiles(chembl_id):\n",
    "    try:\n",
    "        response = molecule.get(chembl_id)\n",
    "        smiles = response['molecule_structures']['canonical_smiles']\n",
    "        return smiles\n",
    "    except Exception as e:\n",
    "        return str(e)\n",
    "\n",
    "\n",
    "def generate_morgan_fingerprint(smiles, radius=2, n_bits=2048):\n",
    "    mol = Chem.MolFromSmiles(smiles)\n",
    "    fp = AllChem.GetMorganFingerprintAsBitVect(mol, radius, nBits=n_bits)\n",
    "    return list(fp)\n",
    "\n",
    "\n",
    "results = []\n",
    "for chembl_id in chembl_ids:\n",
    "    smiles = get_smiles(chembl_id)\n",
    "    if isinstance(smiles, str): \n",
    "        fingerprint = generate_morgan_fingerprint(smiles)\n",
    "        results.append((chembl_id, smiles, fingerprint))\n",
    "\n",
    "df = pd.DataFrame(results, columns=['CHEMBL_ID', 'SMILES', 'Morgan_Fingerprint'])\n",
    "print(df)\n",
    "\n",
    "df.to_csv('morgan_fingerprints.csv', index=False)"
   ]
  },
  {
   "cell_type": "code",
   "execution_count": null,
   "id": "ae5e141f-cf20-4d51-96a8-d35816790946",
   "metadata": {},
   "outputs": [],
   "source": []
  }
 ],
 "metadata": {
  "kernelspec": {
   "display_name": "Python 3 (ipykernel)",
   "language": "python",
   "name": "python3"
  },
  "language_info": {
   "codemirror_mode": {
    "name": "ipython",
    "version": 3
   },
   "file_extension": ".py",
   "mimetype": "text/x-python",
   "name": "python",
   "nbconvert_exporter": "python",
   "pygments_lexer": "ipython3",
   "version": "3.10.13"
  }
 },
 "nbformat": 4,
 "nbformat_minor": 5
}
