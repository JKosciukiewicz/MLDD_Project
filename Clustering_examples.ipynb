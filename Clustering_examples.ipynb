{
 "cells": [
  {
   "cell_type": "code",
   "id": "initial_id",
   "metadata": {
    "collapsed": true,
    "ExecuteTime": {
     "end_time": "2024-05-10T17:42:24.488881Z",
     "start_time": "2024-05-10T17:42:23.647574Z"
    }
   },
   "source": [
    "import pandas as pd\n",
    "import numpy as np\n",
    "from sklearn.manifold import TSNE\n",
    "from sklearn.cluster import DBSCAN, KMeans\n",
    "import plotly.graph_objects as go\n",
    "import plotly.offline as pyo\n",
    "\n",
    "import matplotlib.pyplot as plt"
   ],
   "outputs": [],
   "execution_count": 1
  },
  {
   "metadata": {
    "ExecuteTime": {
     "end_time": "2024-05-10T17:42:24.497045Z",
     "start_time": "2024-05-10T17:42:24.489807Z"
    }
   },
   "cell_type": "code",
   "source": [
    "# read csv\n",
    "df=pd.read_csv('./data/combined_output.csv', sep=';')\n",
    "# drop incomplete rows\n",
    "df = df.dropna()\n",
    "# drop CID column\n",
    "df = df.drop(columns=['CID'])\n",
    "df"
   ],
   "id": "d7e7c365d75d13ea",
   "outputs": [
    {
     "data": {
      "text/plain": [
       "    MolecularWeight  XLogP  HBondDonorCount  HBondAcceptorCount\n",
       "0            418.60    4.7                1                   5\n",
       "1            308.80    2.1                0                   3\n",
       "2            308.30    2.7                1                   4\n",
       "3            422.90    4.3                2                   5\n",
       "4            284.74    3.0                0                   2\n",
       "..              ...    ...              ...                 ...\n",
       "79          1093.30    0.3               16                  18\n",
       "80           390.22   -0.1                2                   4\n",
       "81          1239.40   -0.1               15                  15\n",
       "82          1431.00    1.9               16                  16\n",
       "84           730.70   -8.6               12                  20\n",
       "\n",
       "[83 rows x 4 columns]"
      ],
      "text/html": [
       "<div>\n",
       "<style scoped>\n",
       "    .dataframe tbody tr th:only-of-type {\n",
       "        vertical-align: middle;\n",
       "    }\n",
       "\n",
       "    .dataframe tbody tr th {\n",
       "        vertical-align: top;\n",
       "    }\n",
       "\n",
       "    .dataframe thead th {\n",
       "        text-align: right;\n",
       "    }\n",
       "</style>\n",
       "<table border=\"1\" class=\"dataframe\">\n",
       "  <thead>\n",
       "    <tr style=\"text-align: right;\">\n",
       "      <th></th>\n",
       "      <th>MolecularWeight</th>\n",
       "      <th>XLogP</th>\n",
       "      <th>HBondDonorCount</th>\n",
       "      <th>HBondAcceptorCount</th>\n",
       "    </tr>\n",
       "  </thead>\n",
       "  <tbody>\n",
       "    <tr>\n",
       "      <th>0</th>\n",
       "      <td>418.60</td>\n",
       "      <td>4.7</td>\n",
       "      <td>1</td>\n",
       "      <td>5</td>\n",
       "    </tr>\n",
       "    <tr>\n",
       "      <th>1</th>\n",
       "      <td>308.80</td>\n",
       "      <td>2.1</td>\n",
       "      <td>0</td>\n",
       "      <td>3</td>\n",
       "    </tr>\n",
       "    <tr>\n",
       "      <th>2</th>\n",
       "      <td>308.30</td>\n",
       "      <td>2.7</td>\n",
       "      <td>1</td>\n",
       "      <td>4</td>\n",
       "    </tr>\n",
       "    <tr>\n",
       "      <th>3</th>\n",
       "      <td>422.90</td>\n",
       "      <td>4.3</td>\n",
       "      <td>2</td>\n",
       "      <td>5</td>\n",
       "    </tr>\n",
       "    <tr>\n",
       "      <th>4</th>\n",
       "      <td>284.74</td>\n",
       "      <td>3.0</td>\n",
       "      <td>0</td>\n",
       "      <td>2</td>\n",
       "    </tr>\n",
       "    <tr>\n",
       "      <th>...</th>\n",
       "      <td>...</td>\n",
       "      <td>...</td>\n",
       "      <td>...</td>\n",
       "      <td>...</td>\n",
       "    </tr>\n",
       "    <tr>\n",
       "      <th>79</th>\n",
       "      <td>1093.30</td>\n",
       "      <td>0.3</td>\n",
       "      <td>16</td>\n",
       "      <td>18</td>\n",
       "    </tr>\n",
       "    <tr>\n",
       "      <th>80</th>\n",
       "      <td>390.22</td>\n",
       "      <td>-0.1</td>\n",
       "      <td>2</td>\n",
       "      <td>4</td>\n",
       "    </tr>\n",
       "    <tr>\n",
       "      <th>81</th>\n",
       "      <td>1239.40</td>\n",
       "      <td>-0.1</td>\n",
       "      <td>15</td>\n",
       "      <td>15</td>\n",
       "    </tr>\n",
       "    <tr>\n",
       "      <th>82</th>\n",
       "      <td>1431.00</td>\n",
       "      <td>1.9</td>\n",
       "      <td>16</td>\n",
       "      <td>16</td>\n",
       "    </tr>\n",
       "    <tr>\n",
       "      <th>84</th>\n",
       "      <td>730.70</td>\n",
       "      <td>-8.6</td>\n",
       "      <td>12</td>\n",
       "      <td>20</td>\n",
       "    </tr>\n",
       "  </tbody>\n",
       "</table>\n",
       "<p>83 rows × 4 columns</p>\n",
       "</div>"
      ]
     },
     "execution_count": 2,
     "metadata": {},
     "output_type": "execute_result"
    }
   ],
   "execution_count": 2
  },
  {
   "metadata": {
    "ExecuteTime": {
     "end_time": "2024-05-10T17:42:24.499695Z",
     "start_time": "2024-05-10T17:42:24.497674Z"
    }
   },
   "cell_type": "code",
   "source": [
    "# convert to numpy array\n",
    "X = df.to_numpy()\n",
    "X.shape"
   ],
   "id": "f88279b52a0c81c9",
   "outputs": [
    {
     "data": {
      "text/plain": [
       "(83, 4)"
      ]
     },
     "execution_count": 3,
     "metadata": {},
     "output_type": "execute_result"
    }
   ],
   "execution_count": 3
  },
  {
   "metadata": {},
   "cell_type": "markdown",
   "source": "# TSNE",
   "id": "20dbc63e2ef6e60f"
  },
  {
   "metadata": {
    "ExecuteTime": {
     "end_time": "2024-05-10T17:42:25.374704Z",
     "start_time": "2024-05-10T17:42:24.812521Z"
    }
   },
   "cell_type": "code",
   "source": [
    "# TSNE\n",
    "X_embedded = TSNE(n_components=2).fit_transform(X)\n",
    "X_embedded"
   ],
   "id": "cd75f12514d999fc",
   "outputs": [
    {
     "data": {
      "text/plain": [
       "array([[-0.27038237, -2.5645218 ],\n",
       "       [-2.032186  , -5.6215525 ],\n",
       "       [-1.7777015 , -5.789966  ],\n",
       "       [-0.206939  , -2.4866428 ],\n",
       "       [-2.2478807 , -6.3948836 ],\n",
       "       [-1.1949275 , -5.3791723 ],\n",
       "       [-1.8789669 , -6.788079  ],\n",
       "       [-0.85302675, -4.1365685 ],\n",
       "       [-0.60998   , -3.1930852 ],\n",
       "       [ 0.32469675, -1.6982317 ],\n",
       "       [-2.636337  , -7.325666  ],\n",
       "       [-2.4723012 , -7.499139  ],\n",
       "       [-2.3402073 , -6.5624175 ],\n",
       "       [-1.333118  , -5.799164  ],\n",
       "       [-0.4572113 , -3.6350274 ],\n",
       "       [-2.2446876 , -7.1698413 ],\n",
       "       [-1.1949275 , -5.3791723 ],\n",
       "       [-1.7177678 , -5.201372  ],\n",
       "       [ 0.41674277, -1.6424037 ],\n",
       "       [-1.6176411 , -6.3252006 ],\n",
       "       [-1.4427471 , -4.9617987 ],\n",
       "       [ 0.28184727, -2.3063529 ],\n",
       "       [-0.6477043 , -3.6538544 ],\n",
       "       [-1.4073399 , -6.0596123 ],\n",
       "       [ 0.5952027 , -1.6763153 ],\n",
       "       [-0.82400393, -4.1153407 ],\n",
       "       [-2.0132093 , -6.9999986 ],\n",
       "       [-2.5317504 , -7.592714  ],\n",
       "       [-0.3682742 , -3.5316985 ],\n",
       "       [-1.4360316 , -4.974344  ],\n",
       "       [ 0.06283593, -2.797784  ],\n",
       "       [-1.8824499 , -5.4164457 ],\n",
       "       [ 0.54836273, -1.9512106 ],\n",
       "       [ 0.05660988, -2.7941494 ],\n",
       "       [-3.2709887 , -8.30987   ],\n",
       "       [-2.2286282 , -6.2050753 ],\n",
       "       [-1.0969123 , -4.8171253 ],\n",
       "       [-2.5056374 , -6.858239  ],\n",
       "       [-2.064591  , -5.694226  ],\n",
       "       [ 0.08921792, -2.1191516 ],\n",
       "       [-0.670827  , -3.4504673 ],\n",
       "       [-2.9676037 , -8.131086  ],\n",
       "       [-2.7519214 , -7.9000306 ],\n",
       "       [-3.3097498 , -8.3335705 ],\n",
       "       [-3.2039068 , -8.265254  ],\n",
       "       [-2.0974622 , -5.736249  ],\n",
       "       [-0.05012247, -3.0359206 ],\n",
       "       [-0.3776294 , -2.7743862 ],\n",
       "       [-1.0900388 , -4.5920644 ],\n",
       "       [-1.3809226 , -5.921462  ],\n",
       "       [ 2.9694016 ,  1.6265341 ],\n",
       "       [ 3.0314872 ,  2.3440561 ],\n",
       "       [ 1.9847821 ,  0.25813365],\n",
       "       [ 2.848527  ,  3.4477603 ],\n",
       "       [ 2.8530946 ,  1.4881936 ],\n",
       "       [ 2.4920902 ,  1.0714546 ],\n",
       "       [ 2.584601  ,  1.2420365 ],\n",
       "       [ 2.3728738 ,  4.3486514 ],\n",
       "       [ 2.6387465 ,  3.873536  ],\n",
       "       [ 2.0604172 ,  0.37200224],\n",
       "       [ 3.018072  ,  2.4852655 ],\n",
       "       [ 2.3024457 ,  4.4685564 ],\n",
       "       [ 2.662913  ,  1.7543485 ],\n",
       "       [ 2.083625  ,  0.41315895],\n",
       "       [ 3.001527  ,  2.9990492 ],\n",
       "       [-1.5439548 , -6.1850495 ],\n",
       "       [ 3.0262394 ,  2.7163513 ],\n",
       "       [ 2.7252462 ,  1.9371319 ],\n",
       "       [ 3.0762553 ,  1.9464998 ],\n",
       "       [ 2.6361659 ,  1.3328414 ],\n",
       "       [-3.2523332 , -8.296296  ],\n",
       "       [ 2.724593  ,  1.9396938 ],\n",
       "       [ 2.3676913 ,  4.3572907 ],\n",
       "       [ 0.8165726 , -1.2883468 ],\n",
       "       [ 2.9675994 ,  3.1174371 ],\n",
       "       [ 2.3069384 ,  4.462123  ],\n",
       "       [ 0.98141015, -1.0915031 ],\n",
       "       [ 0.6801058 , -1.5264031 ],\n",
       "       [ 2.6303327 ,  1.3238094 ],\n",
       "       [-0.25769648, -3.3564665 ],\n",
       "       [ 3.026015  ,  1.7432797 ],\n",
       "       [ 3.0500715 ,  2.2975035 ],\n",
       "       [ 1.7700393 , -0.05017296]], dtype=float32)"
      ]
     },
     "execution_count": 4,
     "metadata": {},
     "output_type": "execute_result"
    }
   ],
   "execution_count": 4
  },
  {
   "metadata": {
    "ExecuteTime": {
     "end_time": "2024-05-10T17:42:25.478072Z",
     "start_time": "2024-05-10T17:42:25.375928Z"
    }
   },
   "cell_type": "code",
   "source": [
    "#plot results of TSNE\n",
    "plt.figure(figsize=(10,10))\n",
    "plt.scatter(X_embedded[:,0], X_embedded[:,1])\n",
    "plt.colorbar()\n",
    "plt.show()\n"
   ],
   "id": "432547d5554d579f",
   "outputs": [
    {
     "data": {
      "text/plain": [
       "<Figure size 1000x1000 with 2 Axes>"
      ],
      "image/png": "[encoded data removed]"
     },
     "metadata": {},
     "output_type": "display_data"
    }
   ],
   "execution_count": 5
  },
  {
   "metadata": {},
   "cell_type": "markdown",
   "source": "# DBSCAN",
   "id": "beb64787e13389fe"
  },
  {
   "metadata": {
    "ExecuteTime": {
     "end_time": "2024-05-10T17:42:25.482097Z",
     "start_time": "2024-05-10T17:42:25.479120Z"
    }
   },
   "cell_type": "code",
   "source": [
    "db = DBSCAN(eps=1, min_samples=2).fit(X_embedded)\n",
    "labels = db.labels_"
   ],
   "id": "d5219767906b1c21",
   "outputs": [],
   "execution_count": 6
  },
  {
   "metadata": {
    "ExecuteTime": {
     "end_time": "2024-05-10T17:42:25.690199Z",
     "start_time": "2024-05-10T17:42:25.688298Z"
    }
   },
   "cell_type": "code",
   "source": [
    "n_clusters_ = len(set(labels)) - (1 if -1 in labels else 0)\n",
    "n_noise_ = list(labels).count(-1)\n",
    "\n",
    "print(\"Estimated number of clusters: %d\" % n_clusters_)\n",
    "print(\"Estimated number of noise points: %d\" % n_noise_)"
   ],
   "id": "e93bb43833dfafab",
   "outputs": [
    {
     "name": "stdout",
     "output_type": "stream",
     "text": [
      "Estimated number of clusters: 2\n",
      "Estimated number of noise points: 0\n"
     ]
    }
   ],
   "execution_count": 7
  },
  {
   "metadata": {
    "ExecuteTime": {
     "end_time": "2024-05-10T17:42:26.001139Z",
     "start_time": "2024-05-10T17:42:25.937290Z"
    }
   },
   "cell_type": "code",
   "source": [
    "unique_labels = set(labels)\n",
    "core_samples_mask = np.zeros_like(labels, dtype=bool)\n",
    "core_samples_mask[db.core_sample_indices_] = True\n",
    "\n",
    "colors = [plt.cm.Spectral(each) for each in np.linspace(0, 1, len(unique_labels))]\n",
    "for k, col in zip(unique_labels, colors):\n",
    "    if k == -1:\n",
    "        # Black used for noise.\n",
    "        col = [0, 0, 0, 1]\n",
    "\n",
    "    class_member_mask = labels == k\n",
    "\n",
    "    xy = X[class_member_mask & core_samples_mask]\n",
    "    plt.plot(\n",
    "        xy[:, 0],\n",
    "        xy[:, 1],\n",
    "        \"o\",\n",
    "        markerfacecolor=tuple(col),\n",
    "        markeredgecolor=\"k\",\n",
    "        markersize=14,\n",
    "    )\n",
    "\n",
    "    xy = X[class_member_mask & ~core_samples_mask]\n",
    "    plt.plot(\n",
    "        xy[:, 0],\n",
    "        xy[:, 1],\n",
    "        \"o\",\n",
    "        markerfacecolor=tuple(col),\n",
    "        markeredgecolor=\"k\",\n",
    "        markersize=6,\n",
    "    )\n",
    "\n",
    "plt.title(f\"Estimated number of clusters: {n_clusters_}\")\n",
    "plt.show()\n"
   ],
   "id": "a455cbdef84d2eef",
   "outputs": [
    {
     "data": {
      "text/plain": [
       "<Figure size 640x480 with 1 Axes>"
      ],
      "image/png": "[encoded data removed]"
     },
     "metadata": {},
     "output_type": "display_data"
    }
   ],
   "execution_count": 8
  },
  {
   "metadata": {},
   "cell_type": "markdown",
   "source": "# KMeans",
   "id": "1a7e5936264bbc02"
  },
  {
   "metadata": {
    "ExecuteTime": {
     "end_time": "2024-05-10T17:42:26.459208Z",
     "start_time": "2024-05-10T17:42:26.453754Z"
    }
   },
   "cell_type": "code",
   "source": [
    "kmeans = KMeans(n_clusters=2, random_state=0).fit(X_embedded)\n",
    "labels = kmeans.predict(X_embedded)"
   ],
   "id": "5640cfc1f20f5a38",
   "outputs": [],
   "execution_count": 9
  },
  {
   "metadata": {
    "ExecuteTime": {
     "end_time": "2024-05-10T17:42:26.794679Z",
     "start_time": "2024-05-10T17:42:26.738612Z"
    }
   },
   "cell_type": "code",
   "source": [
    "plt.scatter(X[:, 0], X[:, 1], c=labels, s=50, cmap='viridis')\n",
    "centers = kmeans.cluster_centers_\n",
    "plt.scatter(centers[:, 0], centers[:, 1], c='black', s=200, alpha=0.5);\n"
   ],
   "id": "94c3a1bb9b4919f0",
   "outputs": [
    {
     "data": {
      "text/plain": [
       "<Figure size 640x480 with 1 Axes>"
      ],
      "image/png": "[encoded data removed]"
     },
     "metadata": {},
     "output_type": "display_data"
    }
   ],
   "execution_count": 10
  },
  {
   "metadata": {},
   "cell_type": "markdown",
   "source": "# Radar chart (Source data)",
   "id": "f95f0f83a5cf4a66"
  },
  {
   "metadata": {
    "ExecuteTime": {
     "end_time": "2024-05-10T17:42:27.341208Z",
     "start_time": "2024-05-10T17:42:27.337878Z"
    }
   },
   "cell_type": "code",
   "source": [
    "theta = df.columns.values\n",
    "rescale_vector=np.array([0.01, 1, 1, 1])\n",
    "X_rescaled = X*rescale_vector\n",
    "X_rescaled"
   ],
   "id": "ad3d7c1da0769e0a",
   "outputs": [
    {
     "data": {
      "text/plain": [
       "array([[  4.186 ,   4.7   ,   1.    ,   5.    ],\n",
       "       [  3.088 ,   2.1   ,   0.    ,   3.    ],\n",
       "       [  3.083 ,   2.7   ,   1.    ,   4.    ],\n",
       "       [  4.229 ,   4.3   ,   2.    ,   5.    ],\n",
       "       [  2.8474,   3.    ,   0.    ,   2.    ],\n",
       "       [  3.244 ,   3.2   ,   0.    ,   4.    ],\n",
       "       [  2.774 ,   5.    ,   0.    ,   1.    ],\n",
       "       [  3.604 ,   1.6   ,   3.    ,   5.    ],\n",
       "       [  3.894 ,   2.3   ,   1.    ,   4.    ],\n",
       "       [  4.815 ,   1.6   ,   3.    ,  10.    ],\n",
       "       [  2.3974,   3.2   ,   1.    ,   2.    ],\n",
       "       [  2.3627,   2.5   ,   1.    ,   1.    ],\n",
       "       [  2.774 ,   2.9   ,   1.    ,   3.    ],\n",
       "       [  3.124 ,   2.9   ,   1.    ,   4.    ],\n",
       "       [  3.795 ,   4.3   ,   0.    ,   4.    ],\n",
       "       [  2.5609,   1.4   ,   2.    ,   5.    ],\n",
       "       [  3.244 ,   3.2   ,   0.    ,   4.    ],\n",
       "       [  3.218 ,   3.8   ,   0.    ,   4.    ],\n",
       "       [  4.886 ,   2.5   ,   1.    ,   8.    ],\n",
       "       [  2.977 ,  -0.1   ,   3.    ,   7.    ],\n",
       "       [  3.3134,  -1.1   ,   2.    ,   7.    ],\n",
       "       [  4.444 ,  -0.7   ,   6.    ,   9.    ],\n",
       "       [  3.764 ,  -0.1   ,   2.    ,   6.    ],\n",
       "       [  3.0627,   0.4   ,   1.    ,   7.    ],\n",
       "       [  4.94  ,   4.8   ,   3.    ,   5.    ],\n",
       "       [  3.614 ,  -0.4   ,   1.    ,   8.    ],\n",
       "       [  2.6736,   1.9   ,   2.    ,   4.    ],\n",
       "       [  2.3026,   3.3   ,   1.    ,   3.    ],\n",
       "       [  3.834 ,   2.4   ,   1.    ,   9.    ],\n",
       "       [  3.313 ,   3.1   ,   2.    ,   6.    ],\n",
       "       [  4.165 ,   1.4   ,   2.    ,   6.    ],\n",
       "       [  3.1441,   0.3   ,   2.    ,   7.    ],\n",
       "       [  4.746 ,   1.5   ,   1.    ,   8.    ],\n",
       "       [  4.166 ,   2.9   ,   0.    ,   5.    ],\n",
       "       [  1.3812,   2.3   ,   2.    ,   3.    ],\n",
       "       [  2.914 ,   5.6   ,   0.    ,   1.    ],\n",
       "       [  3.3936,  -0.8   ,   1.    ,   9.    ],\n",
       "       [  2.6337,   2.6   ,   1.    ,   3.    ],\n",
       "       [  3.074 ,   2.5   ,   0.    ,   2.    ],\n",
       "       [  4.484 ,   4.6   ,   1.    ,   4.    ],\n",
       "       [  3.814 ,   3.4   ,   1.    ,   7.    ],\n",
       "       [  1.8016,   1.2   ,   1.    ,   4.    ],\n",
       "       [  2.0628,   3.5   ,   1.    ,   2.    ],\n",
       "       [  1.2916,  -1.3   ,   3.    ,   1.    ],\n",
       "       [  1.5116,   0.5   ,   2.    ,   2.    ],\n",
       "       [  3.062 ,   4.8   ,   1.    ,   1.    ],\n",
       "       [  4.055 ,  -2.9   ,   4.    ,   7.    ],\n",
       "       [  4.089 ,   3.    ,   2.    ,   7.    ],\n",
       "       [  3.454 ,   2.2   ,   1.    ,   6.    ],\n",
       "       [  3.0933,   4.    ,   1.    ,   5.    ],\n",
       "       [ 12.026 ,   7.5   ,   5.    ,  12.    ],\n",
       "       [ 14.492 ,  -2.6   ,  19.    ,  26.    ],\n",
       "       [  8.04  ,   2.7   ,   3.    ,  12.    ],\n",
       "       [ 21.803 ,  -7.1   ,  28.    ,  35.    ],\n",
       "       [ 11.554 ,  -3.3   ,  18.    ,  18.    ],\n",
       "       [ 10.192 ,   1.    ,  13.    ,  14.    ],\n",
       "       [ 10.692 ,  -4.    ,  13.    ,  15.    ],\n",
       "       [ 34.319 , -16.6   ,  52.    ,  55.    ],\n",
       "       [ 26.392 , -14.    ,  42.    ,  46.    ],\n",
       "       [  8.32  ,  -2.4   ,  10.    ,  12.    ],\n",
       "       [ 15.083 , -14.7   ,  19.    ,  52.    ],\n",
       "       [ 41.87  , -21.    ,  58.    ,  66.    ],\n",
       "       [ 12.094 ,   0.7   ,  15.    ,  14.    ],\n",
       "       [  8.42  ,   1.1   ,   8.    ,  12.    ],\n",
       "       [ 17.931 ,   1.5   ,  20.    ,  29.    ],\n",
       "       [  3.0235,   2.9   ,   2.    ,   5.    ],\n",
       "       [ 16.207 ,  -5.1   ,  22.    ,  28.    ],\n",
       "       [ 12.694 ,  -1.5   ,  17.    ,  16.    ],\n",
       "       [ 13.045 ,  -6.4   ,  15.    ,  18.    ],\n",
       "       [ 10.963 ,   2.5   ,  13.    ,  14.    ],\n",
       "       [  1.4224,   3.    ,   0.    ,   1.    ],\n",
       "       [ 12.703 ,  -1.6   ,  16.    ,  24.    ],\n",
       "       [ 34.64  , -16.7   ,  56.    ,  55.    ],\n",
       "       [  5.416 ,   0.5   ,   4.    ,  10.    ],\n",
       "       [ 18.797 ,   0.5   ,  24.    ,  34.    ],\n",
       "       [ 41.18  , -18.7   ,  60.    ,  62.    ],\n",
       "       [  5.777 ,   3.1   ,   3.    ,   7.    ],\n",
       "       [  5.086 ,   1.3   ,   5.    ,   8.    ],\n",
       "       [ 10.933 ,   0.3   ,  16.    ,  18.    ],\n",
       "       [  3.9022,  -0.1   ,   2.    ,   4.    ],\n",
       "       [ 12.394 ,  -0.1   ,  15.    ,  15.    ],\n",
       "       [ 14.31  ,   1.9   ,  16.    ,  16.    ],\n",
       "       [  7.307 ,  -8.6   ,  12.    ,  20.    ]])"
      ]
     },
     "execution_count": 11,
     "metadata": {},
     "output_type": "execute_result"
    }
   ],
   "execution_count": 11
  },
  {
   "metadata": {
    "ExecuteTime": {
     "end_time": "2024-05-10T17:42:39.731962Z",
     "start_time": "2024-05-10T17:42:39.575487Z"
    }
   },
   "cell_type": "code",
   "source": [
    "fig_0 = go.Figure(\n",
    "    data=[go.Scatterpolar(r=row, theta=theta) for row in X_rescaled],\n",
    "        layout=go.Layout(\n",
    "        title=go.layout.Title(text='All compounds'),\n",
    "        polar=dict(\n",
    "            radialaxis=dict(\n",
    "                visible=True,\n",
    "                range=[0, 100]  # Specify the range for the radial axis\n",
    "            )\n",
    "        ),\n",
    "        showlegend=True\n",
    "    )\n",
    ")\n",
    "pyo.plot(fig_0, filename = 'fig_0.html')"
   ],
   "id": "2f0e610fdfdc8017",
   "outputs": [
    {
     "data": {
      "text/plain": [
       "'fig_0.html'"
      ]
     },
     "execution_count": 14,
     "metadata": {},
     "output_type": "execute_result"
    }
   ],
   "execution_count": 14
  },
  {
   "metadata": {
    "ExecuteTime": {
     "end_time": "2024-05-10T17:42:44.280005Z",
     "start_time": "2024-05-10T17:42:44.277683Z"
    }
   },
   "cell_type": "code",
   "source": [
    "# get clustered substances and create bounding boxes based on kmeans and the other one\n",
    "# plot just these two"
   ],
   "id": "d406d2699320ba33",
   "outputs": [],
   "execution_count": 15
  },
  {
   "metadata": {},
   "cell_type": "markdown",
   "source": "# Radar + KMeans",
   "id": "7390309f8f42431"
  },
  {
   "metadata": {
    "ExecuteTime": {
     "end_time": "2024-05-10T17:42:45.406233Z",
     "start_time": "2024-05-10T17:42:45.304006Z"
    }
   },
   "cell_type": "code",
   "source": [
    "kmeans = KMeans(n_clusters=2, random_state=0).fit(X)\n",
    "labels = kmeans.predict(X)\n",
    "# get data from each cluster\n",
    "cluster_map = pd.DataFrame(X)\n",
    "cluster_map['cluster'] = labels\n",
    "cluster_map"
   ],
   "id": "9c40aa54d927ac89",
   "outputs": [
    {
     "data": {
      "text/plain": [
       "          0    1     2     3  cluster\n",
       "0    418.60  4.7   1.0   5.0        0\n",
       "1    308.80  2.1   0.0   3.0        0\n",
       "2    308.30  2.7   1.0   4.0        0\n",
       "3    422.90  4.3   2.0   5.0        0\n",
       "4    284.74  3.0   0.0   2.0        0\n",
       "..      ...  ...   ...   ...      ...\n",
       "78  1093.30  0.3  16.0  18.0        0\n",
       "79   390.22 -0.1   2.0   4.0        0\n",
       "80  1239.40 -0.1  15.0  15.0        0\n",
       "81  1431.00  1.9  16.0  16.0        0\n",
       "82   730.70 -8.6  12.0  20.0        0\n",
       "\n",
       "[83 rows x 5 columns]"
      ],
      "text/html": [
       "<div>\n",
       "<style scoped>\n",
       "    .dataframe tbody tr th:only-of-type {\n",
       "        vertical-align: middle;\n",
       "    }\n",
       "\n",
       "    .dataframe tbody tr th {\n",
       "        vertical-align: top;\n",
       "    }\n",
       "\n",
       "    .dataframe thead th {\n",
       "        text-align: right;\n",
       "    }\n",
       "</style>\n",
       "<table border=\"1\" class=\"dataframe\">\n",
       "  <thead>\n",
       "    <tr style=\"text-align: right;\">\n",
       "      <th></th>\n",
       "      <th>0</th>\n",
       "      <th>1</th>\n",
       "      <th>2</th>\n",
       "      <th>3</th>\n",
       "      <th>cluster</th>\n",
       "    </tr>\n",
       "  </thead>\n",
       "  <tbody>\n",
       "    <tr>\n",
       "      <th>0</th>\n",
       "      <td>418.60</td>\n",
       "      <td>4.7</td>\n",
       "      <td>1.0</td>\n",
       "      <td>5.0</td>\n",
       "      <td>0</td>\n",
       "    </tr>\n",
       "    <tr>\n",
       "      <th>1</th>\n",
       "      <td>308.80</td>\n",
       "      <td>2.1</td>\n",
       "      <td>0.0</td>\n",
       "      <td>3.0</td>\n",
       "      <td>0</td>\n",
       "    </tr>\n",
       "    <tr>\n",
       "      <th>2</th>\n",
       "      <td>308.30</td>\n",
       "      <td>2.7</td>\n",
       "      <td>1.0</td>\n",
       "      <td>4.0</td>\n",
       "      <td>0</td>\n",
       "    </tr>\n",
       "    <tr>\n",
       "      <th>3</th>\n",
       "      <td>422.90</td>\n",
       "      <td>4.3</td>\n",
       "      <td>2.0</td>\n",
       "      <td>5.0</td>\n",
       "      <td>0</td>\n",
       "    </tr>\n",
       "    <tr>\n",
       "      <th>4</th>\n",
       "      <td>284.74</td>\n",
       "      <td>3.0</td>\n",
       "      <td>0.0</td>\n",
       "      <td>2.0</td>\n",
       "      <td>0</td>\n",
       "    </tr>\n",
       "    <tr>\n",
       "      <th>...</th>\n",
       "      <td>...</td>\n",
       "      <td>...</td>\n",
       "      <td>...</td>\n",
       "      <td>...</td>\n",
       "      <td>...</td>\n",
       "    </tr>\n",
       "    <tr>\n",
       "      <th>78</th>\n",
       "      <td>1093.30</td>\n",
       "      <td>0.3</td>\n",
       "      <td>16.0</td>\n",
       "      <td>18.0</td>\n",
       "      <td>0</td>\n",
       "    </tr>\n",
       "    <tr>\n",
       "      <th>79</th>\n",
       "      <td>390.22</td>\n",
       "      <td>-0.1</td>\n",
       "      <td>2.0</td>\n",
       "      <td>4.0</td>\n",
       "      <td>0</td>\n",
       "    </tr>\n",
       "    <tr>\n",
       "      <th>80</th>\n",
       "      <td>1239.40</td>\n",
       "      <td>-0.1</td>\n",
       "      <td>15.0</td>\n",
       "      <td>15.0</td>\n",
       "      <td>0</td>\n",
       "    </tr>\n",
       "    <tr>\n",
       "      <th>81</th>\n",
       "      <td>1431.00</td>\n",
       "      <td>1.9</td>\n",
       "      <td>16.0</td>\n",
       "      <td>16.0</td>\n",
       "      <td>0</td>\n",
       "    </tr>\n",
       "    <tr>\n",
       "      <th>82</th>\n",
       "      <td>730.70</td>\n",
       "      <td>-8.6</td>\n",
       "      <td>12.0</td>\n",
       "      <td>20.0</td>\n",
       "      <td>0</td>\n",
       "    </tr>\n",
       "  </tbody>\n",
       "</table>\n",
       "<p>83 rows × 5 columns</p>\n",
       "</div>"
      ]
     },
     "execution_count": 16,
     "metadata": {},
     "output_type": "execute_result"
    }
   ],
   "execution_count": 16
  },
  {
   "metadata": {
    "ExecuteTime": {
     "end_time": "2024-05-10T17:42:46.077716Z",
     "start_time": "2024-05-10T17:42:46.072771Z"
    }
   },
   "cell_type": "code",
   "source": [
    "# get cluster 0\n",
    "cluster_0 = cluster_map[cluster_map['cluster'] == 0]\n",
    "cluster_0"
   ],
   "id": "789da0203becee80",
   "outputs": [
    {
     "data": {
      "text/plain": [
       "          0    1     2     3  cluster\n",
       "0    418.60  4.7   1.0   5.0        0\n",
       "1    308.80  2.1   0.0   3.0        0\n",
       "2    308.30  2.7   1.0   4.0        0\n",
       "3    422.90  4.3   2.0   5.0        0\n",
       "4    284.74  3.0   0.0   2.0        0\n",
       "..      ...  ...   ...   ...      ...\n",
       "78  1093.30  0.3  16.0  18.0        0\n",
       "79   390.22 -0.1   2.0   4.0        0\n",
       "80  1239.40 -0.1  15.0  15.0        0\n",
       "81  1431.00  1.9  16.0  16.0        0\n",
       "82   730.70 -8.6  12.0  20.0        0\n",
       "\n",
       "[77 rows x 5 columns]"
      ],
      "text/html": [
       "<div>\n",
       "<style scoped>\n",
       "    .dataframe tbody tr th:only-of-type {\n",
       "        vertical-align: middle;\n",
       "    }\n",
       "\n",
       "    .dataframe tbody tr th {\n",
       "        vertical-align: top;\n",
       "    }\n",
       "\n",
       "    .dataframe thead th {\n",
       "        text-align: right;\n",
       "    }\n",
       "</style>\n",
       "<table border=\"1\" class=\"dataframe\">\n",
       "  <thead>\n",
       "    <tr style=\"text-align: right;\">\n",
       "      <th></th>\n",
       "      <th>0</th>\n",
       "      <th>1</th>\n",
       "      <th>2</th>\n",
       "      <th>3</th>\n",
       "      <th>cluster</th>\n",
       "    </tr>\n",
       "  </thead>\n",
       "  <tbody>\n",
       "    <tr>\n",
       "      <th>0</th>\n",
       "      <td>418.60</td>\n",
       "      <td>4.7</td>\n",
       "      <td>1.0</td>\n",
       "      <td>5.0</td>\n",
       "      <td>0</td>\n",
       "    </tr>\n",
       "    <tr>\n",
       "      <th>1</th>\n",
       "      <td>308.80</td>\n",
       "      <td>2.1</td>\n",
       "      <td>0.0</td>\n",
       "      <td>3.0</td>\n",
       "      <td>0</td>\n",
       "    </tr>\n",
       "    <tr>\n",
       "      <th>2</th>\n",
       "      <td>308.30</td>\n",
       "      <td>2.7</td>\n",
       "      <td>1.0</td>\n",
       "      <td>4.0</td>\n",
       "      <td>0</td>\n",
       "    </tr>\n",
       "    <tr>\n",
       "      <th>3</th>\n",
       "      <td>422.90</td>\n",
       "      <td>4.3</td>\n",
       "      <td>2.0</td>\n",
       "      <td>5.0</td>\n",
       "      <td>0</td>\n",
       "    </tr>\n",
       "    <tr>\n",
       "      <th>4</th>\n",
       "      <td>284.74</td>\n",
       "      <td>3.0</td>\n",
       "      <td>0.0</td>\n",
       "      <td>2.0</td>\n",
       "      <td>0</td>\n",
       "    </tr>\n",
       "    <tr>\n",
       "      <th>...</th>\n",
       "      <td>...</td>\n",
       "      <td>...</td>\n",
       "      <td>...</td>\n",
       "      <td>...</td>\n",
       "      <td>...</td>\n",
       "    </tr>\n",
       "    <tr>\n",
       "      <th>78</th>\n",
       "      <td>1093.30</td>\n",
       "      <td>0.3</td>\n",
       "      <td>16.0</td>\n",
       "      <td>18.0</td>\n",
       "      <td>0</td>\n",
       "    </tr>\n",
       "    <tr>\n",
       "      <th>79</th>\n",
       "      <td>390.22</td>\n",
       "      <td>-0.1</td>\n",
       "      <td>2.0</td>\n",
       "      <td>4.0</td>\n",
       "      <td>0</td>\n",
       "    </tr>\n",
       "    <tr>\n",
       "      <th>80</th>\n",
       "      <td>1239.40</td>\n",
       "      <td>-0.1</td>\n",
       "      <td>15.0</td>\n",
       "      <td>15.0</td>\n",
       "      <td>0</td>\n",
       "    </tr>\n",
       "    <tr>\n",
       "      <th>81</th>\n",
       "      <td>1431.00</td>\n",
       "      <td>1.9</td>\n",
       "      <td>16.0</td>\n",
       "      <td>16.0</td>\n",
       "      <td>0</td>\n",
       "    </tr>\n",
       "    <tr>\n",
       "      <th>82</th>\n",
       "      <td>730.70</td>\n",
       "      <td>-8.6</td>\n",
       "      <td>12.0</td>\n",
       "      <td>20.0</td>\n",
       "      <td>0</td>\n",
       "    </tr>\n",
       "  </tbody>\n",
       "</table>\n",
       "<p>77 rows × 5 columns</p>\n",
       "</div>"
      ]
     },
     "execution_count": 17,
     "metadata": {},
     "output_type": "execute_result"
    }
   ],
   "execution_count": 17
  },
  {
   "metadata": {
    "ExecuteTime": {
     "end_time": "2024-05-10T17:42:46.398724Z",
     "start_time": "2024-05-10T17:42:46.394426Z"
    }
   },
   "cell_type": "code",
   "source": [
    "# get cluster 1\n",
    "cluster_1 = cluster_map[cluster_map['cluster'] == 1]\n",
    "cluster_1"
   ],
   "id": "d80e2eab97b2ac65",
   "outputs": [
    {
     "data": {
      "text/plain": [
       "         0     1     2     3  cluster\n",
       "53  2180.3  -7.1  28.0  35.0        1\n",
       "57  3431.9 -16.6  52.0  55.0        1\n",
       "58  2639.2 -14.0  42.0  46.0        1\n",
       "61  4187.0 -21.0  58.0  66.0        1\n",
       "72  3464.0 -16.7  56.0  55.0        1\n",
       "75  4118.0 -18.7  60.0  62.0        1"
      ],
      "text/html": [
       "<div>\n",
       "<style scoped>\n",
       "    .dataframe tbody tr th:only-of-type {\n",
       "        vertical-align: middle;\n",
       "    }\n",
       "\n",
       "    .dataframe tbody tr th {\n",
       "        vertical-align: top;\n",
       "    }\n",
       "\n",
       "    .dataframe thead th {\n",
       "        text-align: right;\n",
       "    }\n",
       "</style>\n",
       "<table border=\"1\" class=\"dataframe\">\n",
       "  <thead>\n",
       "    <tr style=\"text-align: right;\">\n",
       "      <th></th>\n",
       "      <th>0</th>\n",
       "      <th>1</th>\n",
       "      <th>2</th>\n",
       "      <th>3</th>\n",
       "      <th>cluster</th>\n",
       "    </tr>\n",
       "  </thead>\n",
       "  <tbody>\n",
       "    <tr>\n",
       "      <th>53</th>\n",
       "      <td>2180.3</td>\n",
       "      <td>-7.1</td>\n",
       "      <td>28.0</td>\n",
       "      <td>35.0</td>\n",
       "      <td>1</td>\n",
       "    </tr>\n",
       "    <tr>\n",
       "      <th>57</th>\n",
       "      <td>3431.9</td>\n",
       "      <td>-16.6</td>\n",
       "      <td>52.0</td>\n",
       "      <td>55.0</td>\n",
       "      <td>1</td>\n",
       "    </tr>\n",
       "    <tr>\n",
       "      <th>58</th>\n",
       "      <td>2639.2</td>\n",
       "      <td>-14.0</td>\n",
       "      <td>42.0</td>\n",
       "      <td>46.0</td>\n",
       "      <td>1</td>\n",
       "    </tr>\n",
       "    <tr>\n",
       "      <th>61</th>\n",
       "      <td>4187.0</td>\n",
       "      <td>-21.0</td>\n",
       "      <td>58.0</td>\n",
       "      <td>66.0</td>\n",
       "      <td>1</td>\n",
       "    </tr>\n",
       "    <tr>\n",
       "      <th>72</th>\n",
       "      <td>3464.0</td>\n",
       "      <td>-16.7</td>\n",
       "      <td>56.0</td>\n",
       "      <td>55.0</td>\n",
       "      <td>1</td>\n",
       "    </tr>\n",
       "    <tr>\n",
       "      <th>75</th>\n",
       "      <td>4118.0</td>\n",
       "      <td>-18.7</td>\n",
       "      <td>60.0</td>\n",
       "      <td>62.0</td>\n",
       "      <td>1</td>\n",
       "    </tr>\n",
       "  </tbody>\n",
       "</table>\n",
       "</div>"
      ]
     },
     "execution_count": 18,
     "metadata": {},
     "output_type": "execute_result"
    }
   ],
   "execution_count": 18
  },
  {
   "metadata": {
    "ExecuteTime": {
     "end_time": "2024-05-10T17:42:49.684357Z",
     "start_time": "2024-05-10T17:42:46.851196Z"
    }
   },
   "cell_type": "code",
   "source": [
    "# plot radar chart for cluster 0\n",
    "cluster_0_rescaled = cluster_0.drop(columns=['cluster']).to_numpy()*rescale_vector\n",
    "fig_1 = go.Figure(\n",
    "    data=[go.Scatterpolar(r=row, theta=theta) for row in cluster_0_rescaled],\n",
    "        layout=go.Layout(\n",
    "        title=go.layout.Title(text='Cluster 0 compounds'),\n",
    "        polar=dict(\n",
    "            radialaxis=dict(\n",
    "                visible=True,\n",
    "                range=[0, 100]  # Specify the range for the radial axis\n",
    "            )\n",
    "        ),\n",
    "        showlegend=True\n",
    "    )\n",
    ")\n",
    "pyo.plot(fig_1, filename = 'fig_1.html')\n",
    "fig_1.write_image('./fig_1.png')"
   ],
   "id": "51bb387632a55fbf",
   "outputs": [],
   "execution_count": 19
  },
  {
   "metadata": {},
   "cell_type": "markdown",
   "source": "![alt text](./fig_1.png)",
   "id": "f60f4511fd29fbaf"
  },
  {
   "metadata": {
    "ExecuteTime": {
     "end_time": "2024-05-10T17:43:59.340551Z",
     "start_time": "2024-05-10T17:43:59.153127Z"
    }
   },
   "cell_type": "code",
   "source": [
    "# plot radar chart for cluster 1\n",
    "cluster_1_rescaled = cluster_1.drop(columns=['cluster']).to_numpy()*rescale_vector\n",
    "fig_2 = go.Figure(\n",
    "    data=[go.Scatterpolar(r=row, theta=theta) for row in cluster_1_rescaled],\n",
    "        layout=go.Layout(\n",
    "        title=go.layout.Title(text='Cluster 1 compounds'),\n",
    "        polar=dict(\n",
    "            radialaxis=dict(\n",
    "                visible=True,\n",
    "                range=[0, 100]  # Specify the range for the radial axis\n",
    "            )\n",
    "        ),\n",
    "        showlegend=True\n",
    "    )\n",
    ")\n",
    "pyo.plot(fig_2, filename = 'fig_2.html')\n",
    "fig_2.write_image('./fig_2.png')"
   ],
   "id": "c650f4118cfaa315",
   "outputs": [],
   "execution_count": 21
  },
  {
   "metadata": {},
   "cell_type": "markdown",
   "source": "![alt text](./fig_2.png)",
   "id": "ab2d4bb69e7d2972"
  },
  {
   "metadata": {},
   "cell_type": "markdown",
   "source": "## Cluster 1 radar chart\n",
   "id": "a341f77f901dfc54"
  },
  {
   "metadata": {
    "ExecuteTime": {
     "end_time": "2024-05-10T17:44:18.082895Z",
     "start_time": "2024-05-10T17:44:17.888286Z"
    }
   },
   "cell_type": "code",
   "source": [
    "# bounding box for cluster 0\n",
    "cluster_0_min = cluster_0.drop(columns=['cluster']).min().values\n",
    "cluster_0_max = cluster_0.drop(columns=['cluster']).max().values\n",
    "# plot bounding box for cluster 0\n",
    "fig_3 = go.Figure(\n",
    "    data=[go.Scatterpolar(r=cluster_0_min*rescale_vector, theta=theta, mode='lines', name='min'),\n",
    "          go.Scatterpolar(r=cluster_0_max*rescale_vector, theta=theta, mode='lines',fill='toself',fillcolor='rgba(0,100,80,0.2)', name='max')],\n",
    "        layout=go.Layout(\n",
    "        title=go.layout.Title(text='Cluster 0 bounding box'),\n",
    "        polar=dict(\n",
    "            radialaxis=dict(\n",
    "                visible=True,\n",
    "                range=[0, 100]  # Specify the range for the radial axis\n",
    "            )\n",
    "        ),\n",
    "        showlegend=True\n",
    "    )\n",
    ")\n",
    "pyo.plot(fig_3, filename = 'fig_3.html')\n",
    "fig_3.write_image('./fig_3.png')"
   ],
   "id": "5d954db6f0d56af9",
   "outputs": [],
   "execution_count": 22
  },
  {
   "metadata": {},
   "cell_type": "markdown",
   "source": "![alt text](./fig_3.png)",
   "id": "7b0824c846a200e"
  },
  {
   "metadata": {
    "ExecuteTime": {
     "end_time": "2024-05-10T17:44:31.381937Z",
     "start_time": "2024-05-10T17:44:31.192461Z"
    }
   },
   "cell_type": "code",
   "source": [
    "# bounding box for cluster 1\n",
    "cluster_1_min = cluster_1.drop(columns=['cluster']).min().values\n",
    "cluster_1_max = cluster_1.drop(columns=['cluster']).max().values\n",
    "# plot bounding box for cluster 1\n",
    "fig_4 = go.Figure(\n",
    "    data=[go.Scatterpolar(r=cluster_1_min * rescale_vector, theta=theta, mode='lines', name='min'),\n",
    "          go.Scatterpolar(r=cluster_1_max * rescale_vector, theta=theta, mode='lines', fill='toself',fillcolor='rgba(0,100,80,0.2)', name='max'),\n",
    "          ],\n",
    "    layout=go.Layout(\n",
    "        title=go.layout.Title(text='Cluster 1 bounding box'),\n",
    "        polar=dict(\n",
    "            radialaxis=dict(\n",
    "                visible=True,\n",
    "                range=[0, 100]  # Specify the range for the radial axis\n",
    "            )\n",
    "        ),\n",
    "        showlegend=True\n",
    "    )\n",
    ")\n",
    "pyo.plot(fig_4, filename = 'fig_4.html')\n",
    "fig_4.write_image('./fig_4.png')"
   ],
   "id": "f5796fd654fba0e8",
   "outputs": [],
   "execution_count": 24
  },
  {
   "metadata": {},
   "cell_type": "markdown",
   "source": "![alt text](./fig_4.png)",
   "id": "82aecdf4ccbd39fd"
  },
  {
   "metadata": {
    "ExecuteTime": {
     "end_time": "2024-05-10T17:44:48.432751Z",
     "start_time": "2024-05-10T17:44:48.247198Z"
    }
   },
   "cell_type": "code",
   "source": [
    "fig_4 = go.Figure(\n",
    "    data=[go.Scatterpolar(r=cluster_0_max * rescale_vector, theta=theta, mode='lines', fill='toself',fillcolor='rgba(0,100,80,0.2)', name='cluster 0'),\n",
    "          go.Scatterpolar(r=cluster_1_max * rescale_vector, theta=theta, mode='lines', fill='toself',fillcolor='rgba(0,100,80,0.2)', name='cluster 1'),\n",
    "          ],\n",
    "    layout=go.Layout(\n",
    "        title=go.layout.Title(text='Cluster 1 bounding box'),\n",
    "        polar=dict(\n",
    "            radialaxis=dict(\n",
    "                visible=True,\n",
    "                range=[0, 100]  # Specify the range for the radial axis\n",
    "            )\n",
    "        ),\n",
    "        showlegend=True\n",
    "    )\n",
    ")\n",
    "pyo.plot(fig_4)\n",
    "fig_4.write_image('./fig_4.png')"
   ],
   "id": "370beceae0b8670",
   "outputs": [],
   "execution_count": 25
  },
  {
   "metadata": {},
   "cell_type": "markdown",
   "source": "![alt text](./fig_4.png)",
   "id": "a8ee551e3291e398"
  },
  {
   "metadata": {},
   "cell_type": "code",
   "outputs": [],
   "execution_count": null,
   "source": "",
   "id": "a8d8e2c5175993a1"
  }
 ],
 "metadata": {
  "kernelspec": {
   "display_name": "Python 3",
   "language": "python",
   "name": "python3"
  },
  "language_info": {
   "codemirror_mode": {
    "name": "ipython",
    "version": 2
   },
   "file_extension": ".py",
   "mimetype": "text/x-python",
   "name": "python",
   "nbconvert_exporter": "python",
   "pygments_lexer": "ipython2",
   "version": "2.7.6"
  }
 },
 "nbformat": 4,
 "nbformat_minor": 5
}
